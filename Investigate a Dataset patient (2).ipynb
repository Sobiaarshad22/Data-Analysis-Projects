{
 "cells": [
  {
   "cell_type": "markdown",
   "id": "a3579e24",
   "metadata": {},
   "source": [
    "# Project: Investigate a Dataset -[Medical Appointment Attendance System]"
   ]
  },
  {
   "cell_type": "markdown",
   "id": "b6c261a2",
   "metadata": {},
   "source": [
    "# Introduction:\n",
    "\n",
    "For this project I have selected 'No show appointments' dataset from a list of dataset provided to explore for our project analysis.Through this dataset which I named as'Medical Appointment Attendance System' I want to investigate and check that why patients miss their appointments as per scheduled date.This data set actually collects information from 100k medical appointments in Brazil and is focused to analyse as to why patients are missing their appointments."
   ]
  },
  {
   "cell_type": "markdown",
   "id": "1d99d8f2",
   "metadata": {},
   "source": [
    "# Dataset Description:\n",
    "Defining 'Medical Appointment Attendance System' columns:\n",
    "Now we will look how many columns are included in this data set and what is the relationship between them."
   ]
  },
  {
   "cell_type": "markdown",
   "id": "8e073e6e",
   "metadata": {},
   "source": [
    "1-PatienId:This column is used to determine identification of a patient which has a unique value.No two patients can have same id.\n",
    "2-AppointmentID:This is unique id that is generated against each appointment for every patient.\n",
    "3-Gender:shows the gender of the patient as Male or Female. \n",
    "4-ScheduledDay:shows on which date patient is making his/her appointment booked.\n",
    "5-AppointmentDay:Shows the actual date when appointment will take place.\n",
    "6-Age:shows age of patient.\n",
    "7-Neighbourhood:tells us location of appointment taking place which can be location of Medical center or Hospital.\n",
    "8-Scholarship:if patient is getting subsidy from Brazilian Govt as a help.\n",
    "9-Hipertension:This column shows if the patient has hypertension or not.\n",
    "10-Diabetes:Shows if the patient is diabetic or not.\n",
    "11-Alcoholism:shows as if patient is Alcoholic or not.\n",
    "12-Handcap:Indicates if the patient is handicaped or not.\n",
    "13-SMS_received:indicates if patient received a text msg from hospital for confirmation of appointment details.\n",
    "14-No-show:This lalst column shows ‘No’ if the patient attented appointment, and ‘Yes’ if they did not attend appointment which is quite tricky."
   ]
  },
  {
   "cell_type": "markdown",
   "id": "a0f2e4aa",
   "metadata": {},
   "source": [
    "# Question(s) for Analysis:\n",
    "\n",
    "Following are the key questions for this system dataset analysis,I will keep exploring them in my report and will address them in my data analysis process with some conclusions derived at the end of this report."
   ]
  },
  {
   "cell_type": "markdown",
   "id": "1e5f8e34",
   "metadata": {},
   "source": [
    "What percentage of patients in this Medical Appointment Attendance System dataset Missed their scheduled appointments?"
   ]
  },
  {
   "cell_type": "markdown",
   "id": "ae26f1c1",
   "metadata": {},
   "source": [
    "What are the key factors affecting patients to Miss their scheduled appointments?"
   ]
  },
  {
   "cell_type": "markdown",
   "id": "761e0791",
   "metadata": {},
   "source": [
    "Which area in this system/dataset requires further analysis to increase Number of patients showing up on their appointments and to overall improve system efficacy?"
   ]
  },
  {
   "cell_type": "markdown",
   "id": "d2c9f15d",
   "metadata": {},
   "source": [
    "Are patients missing appointments are not receiving 'SMS'?"
   ]
  },
  {
   "cell_type": "markdown",
   "id": "ad40fbad",
   "metadata": {},
   "source": [
    "Is Alcoholism affecting their ability to show themselves on their appointments or are they missing appointments because of this factor?"
   ]
  },
  {
   "cell_type": "code",
   "execution_count": 2,
   "id": "94ebfb5b",
   "metadata": {
    "scrolled": true
   },
   "outputs": [],
   "source": [
    "#import required libraries to be used in this Project\n",
    "#used Pandas which is an open source Python package that is most widely used for data science/data analysis and machine learning tasks.\n",
    "#It is built on top of another package named Numpy, which provides support for multi-dimensional arrays.\n",
    "import numpy as np\n",
    "import pandas as pd\n",
    "#Matplotib will be used for data visulaisation in this project\n",
    "import matplotlib.pyplot as plt\n",
    "#for exploration and understanding of data seaborn will be used.\n",
    "import seaborn as sns\n",
    "\n",
    "%matplotlib inline\n"
   ]
  },
  {
   "cell_type": "markdown",
   "id": "ed1f3185",
   "metadata": {},
   "source": [
    "# Data Wrangling:\n",
    "\n",
    "Now we will perform a very important step for our data Analysis process on this 'Medical Appointment Attendance System'  which is data Wrangling It is actually the process comprising of following stages:\n",
    "\n",
    "1-Collecting and gathering data\n",
    "2-Transforming Raw data into another format for better understanding.\n",
    "\n",
    "This Data wrangling will help us in decision-making and  analysis in less time. We will be able to understand our data of patients and their different attributes and dependencies of factors on which patient is able to show for his scheduled appointment date.In other words afte loading data we will be able to further investigate about datatypes of different attributes and their relationship.\n",
    "\n",
    "In the Next phase we will check for data Cleanliness and then trim and clean our dataset for further analysis."
   ]
  },
  {
   "cell_type": "code",
   "execution_count": 3,
   "id": "3b3657a0",
   "metadata": {},
   "outputs": [
    {
     "data": {
      "text/html": [
       "<div>\n",
       "<style scoped>\n",
       "    .dataframe tbody tr th:only-of-type {\n",
       "        vertical-align: middle;\n",
       "    }\n",
       "\n",
       "    .dataframe tbody tr th {\n",
       "        vertical-align: top;\n",
       "    }\n",
       "\n",
       "    .dataframe thead th {\n",
       "        text-align: right;\n",
       "    }\n",
       "</style>\n",
       "<table border=\"1\" class=\"dataframe\">\n",
       "  <thead>\n",
       "    <tr style=\"text-align: right;\">\n",
       "      <th></th>\n",
       "      <th>PatientId</th>\n",
       "      <th>AppointmentID</th>\n",
       "      <th>Gender</th>\n",
       "      <th>ScheduledDay</th>\n",
       "      <th>AppointmentDay</th>\n",
       "      <th>Age</th>\n",
       "      <th>Neighbourhood</th>\n",
       "      <th>Scholarship</th>\n",
       "      <th>Hipertension</th>\n",
       "      <th>Diabetes</th>\n",
       "      <th>Alcoholism</th>\n",
       "      <th>Handcap</th>\n",
       "      <th>SMS_received</th>\n",
       "      <th>No-show</th>\n",
       "    </tr>\n",
       "  </thead>\n",
       "  <tbody>\n",
       "    <tr>\n",
       "      <th>0</th>\n",
       "      <td>2.987250e+13</td>\n",
       "      <td>5642903</td>\n",
       "      <td>F</td>\n",
       "      <td>2016-04-29T18:38:08Z</td>\n",
       "      <td>2016-04-29T00:00:00Z</td>\n",
       "      <td>62</td>\n",
       "      <td>JARDIM DA PENHA</td>\n",
       "      <td>0</td>\n",
       "      <td>1</td>\n",
       "      <td>0</td>\n",
       "      <td>0</td>\n",
       "      <td>0</td>\n",
       "      <td>0</td>\n",
       "      <td>No</td>\n",
       "    </tr>\n",
       "    <tr>\n",
       "      <th>1</th>\n",
       "      <td>5.589978e+14</td>\n",
       "      <td>5642503</td>\n",
       "      <td>M</td>\n",
       "      <td>2016-04-29T16:08:27Z</td>\n",
       "      <td>2016-04-29T00:00:00Z</td>\n",
       "      <td>56</td>\n",
       "      <td>JARDIM DA PENHA</td>\n",
       "      <td>0</td>\n",
       "      <td>0</td>\n",
       "      <td>0</td>\n",
       "      <td>0</td>\n",
       "      <td>0</td>\n",
       "      <td>0</td>\n",
       "      <td>No</td>\n",
       "    </tr>\n",
       "    <tr>\n",
       "      <th>2</th>\n",
       "      <td>4.262962e+12</td>\n",
       "      <td>5642549</td>\n",
       "      <td>F</td>\n",
       "      <td>2016-04-29T16:19:04Z</td>\n",
       "      <td>2016-04-29T00:00:00Z</td>\n",
       "      <td>62</td>\n",
       "      <td>MATA DA PRAIA</td>\n",
       "      <td>0</td>\n",
       "      <td>0</td>\n",
       "      <td>0</td>\n",
       "      <td>0</td>\n",
       "      <td>0</td>\n",
       "      <td>0</td>\n",
       "      <td>No</td>\n",
       "    </tr>\n",
       "    <tr>\n",
       "      <th>3</th>\n",
       "      <td>8.679512e+11</td>\n",
       "      <td>5642828</td>\n",
       "      <td>F</td>\n",
       "      <td>2016-04-29T17:29:31Z</td>\n",
       "      <td>2016-04-29T00:00:00Z</td>\n",
       "      <td>8</td>\n",
       "      <td>PONTAL DE CAMBURI</td>\n",
       "      <td>0</td>\n",
       "      <td>0</td>\n",
       "      <td>0</td>\n",
       "      <td>0</td>\n",
       "      <td>0</td>\n",
       "      <td>0</td>\n",
       "      <td>No</td>\n",
       "    </tr>\n",
       "    <tr>\n",
       "      <th>4</th>\n",
       "      <td>8.841186e+12</td>\n",
       "      <td>5642494</td>\n",
       "      <td>F</td>\n",
       "      <td>2016-04-29T16:07:23Z</td>\n",
       "      <td>2016-04-29T00:00:00Z</td>\n",
       "      <td>56</td>\n",
       "      <td>JARDIM DA PENHA</td>\n",
       "      <td>0</td>\n",
       "      <td>1</td>\n",
       "      <td>1</td>\n",
       "      <td>0</td>\n",
       "      <td>0</td>\n",
       "      <td>0</td>\n",
       "      <td>No</td>\n",
       "    </tr>\n",
       "  </tbody>\n",
       "</table>\n",
       "</div>"
      ],
      "text/plain": [
       "      PatientId  AppointmentID Gender          ScheduledDay  \\\n",
       "0  2.987250e+13        5642903      F  2016-04-29T18:38:08Z   \n",
       "1  5.589978e+14        5642503      M  2016-04-29T16:08:27Z   \n",
       "2  4.262962e+12        5642549      F  2016-04-29T16:19:04Z   \n",
       "3  8.679512e+11        5642828      F  2016-04-29T17:29:31Z   \n",
       "4  8.841186e+12        5642494      F  2016-04-29T16:07:23Z   \n",
       "\n",
       "         AppointmentDay  Age      Neighbourhood  Scholarship  Hipertension  \\\n",
       "0  2016-04-29T00:00:00Z   62    JARDIM DA PENHA            0             1   \n",
       "1  2016-04-29T00:00:00Z   56    JARDIM DA PENHA            0             0   \n",
       "2  2016-04-29T00:00:00Z   62      MATA DA PRAIA            0             0   \n",
       "3  2016-04-29T00:00:00Z    8  PONTAL DE CAMBURI            0             0   \n",
       "4  2016-04-29T00:00:00Z   56    JARDIM DA PENHA            0             1   \n",
       "\n",
       "   Diabetes  Alcoholism  Handcap  SMS_received No-show  \n",
       "0         0           0        0             0      No  \n",
       "1         0           0        0             0      No  \n",
       "2         0           0        0             0      No  \n",
       "3         0           0        0             0      No  \n",
       "4         1           0        0             0      No  "
      ]
     },
     "execution_count": 3,
     "metadata": {},
     "output_type": "execute_result"
    }
   ],
   "source": [
    "# Loading data and print out a few lines. \n",
    "\n",
    "df=pd.read_csv('Database_No_show_appointments.csv')\n",
    "df.head()"
   ]
  },
  {
   "cell_type": "code",
   "execution_count": 4,
   "id": "3dc707f0",
   "metadata": {},
   "outputs": [
    {
     "data": {
      "text/plain": [
       "(110527, 14)"
      ]
     },
     "execution_count": 4,
     "metadata": {},
     "output_type": "execute_result"
    }
   ],
   "source": [
    "#Performing operations to inspect data\n",
    "# this returns a tuple of the dimensions of the dataframe\n",
    "df.shape"
   ]
  },
  {
   "cell_type": "markdown",
   "id": "52bf1d37",
   "metadata": {},
   "source": [
    "The above output shows this data has 110527 rows and 14 columns."
   ]
  },
  {
   "cell_type": "code",
   "execution_count": 5,
   "id": "a668a7aa",
   "metadata": {},
   "outputs": [
    {
     "data": {
      "text/plain": [
       "PatientId         float64\n",
       "AppointmentID       int64\n",
       "Gender             object\n",
       "ScheduledDay       object\n",
       "AppointmentDay     object\n",
       "Age                 int64\n",
       "Neighbourhood      object\n",
       "Scholarship         int64\n",
       "Hipertension        int64\n",
       "Diabetes            int64\n",
       "Alcoholism          int64\n",
       "Handcap             int64\n",
       "SMS_received        int64\n",
       "No-show            object\n",
       "dtype: object"
      ]
     },
     "execution_count": 5,
     "metadata": {},
     "output_type": "execute_result"
    }
   ],
   "source": [
    "# this will check datatype of each column in this data set which is very important for data analysis\n",
    "df.dtypes"
   ]
  },
  {
   "cell_type": "markdown",
   "id": "0a8c418b",
   "metadata": {},
   "source": [
    "The above output shows PatientId is float which can be converted to INT datatype in datawrangling process."
   ]
  },
  {
   "cell_type": "code",
   "execution_count": 6,
   "id": "9d8f8ccc",
   "metadata": {
    "scrolled": true
   },
   "outputs": [
    {
     "name": "stdout",
     "output_type": "stream",
     "text": [
      "<class 'pandas.core.frame.DataFrame'>\n",
      "RangeIndex: 110527 entries, 0 to 110526\n",
      "Data columns (total 14 columns):\n",
      " #   Column          Non-Null Count   Dtype  \n",
      "---  ------          --------------   -----  \n",
      " 0   PatientId       110527 non-null  float64\n",
      " 1   AppointmentID   110527 non-null  int64  \n",
      " 2   Gender          110527 non-null  object \n",
      " 3   ScheduledDay    110527 non-null  object \n",
      " 4   AppointmentDay  110527 non-null  object \n",
      " 5   Age             110527 non-null  int64  \n",
      " 6   Neighbourhood   110527 non-null  object \n",
      " 7   Scholarship     110527 non-null  int64  \n",
      " 8   Hipertension    110527 non-null  int64  \n",
      " 9   Diabetes        110527 non-null  int64  \n",
      " 10  Alcoholism      110527 non-null  int64  \n",
      " 11  Handcap         110527 non-null  int64  \n",
      " 12  SMS_received    110527 non-null  int64  \n",
      " 13  No-show         110527 non-null  object \n",
      "dtypes: float64(1), int64(8), object(5)\n",
      "memory usage: 11.8+ MB\n"
     ]
    }
   ],
   "source": [
    "\n",
    "#to check all data types of columns and to verify if there is NULL value or not\n",
    "df.info()\n",
    "#output shows there is no Null values and data types are accordingly \n",
    "\n"
   ]
  },
  {
   "cell_type": "code",
   "execution_count": 7,
   "id": "5a65e98b",
   "metadata": {
    "scrolled": true
   },
   "outputs": [
    {
     "data": {
      "text/plain": [
       "str"
      ]
     },
     "execution_count": 7,
     "metadata": {},
     "output_type": "execute_result"
    }
   ],
   "source": [
    "# Above output shows the datatype for column Neighbourhood, ScheduledDay,AppointmentDay,Gender appears to be object, further\n",
    "# investigation shows it's a string\n",
    "type(df['Neighbourhood'][0])\n",
    "type(df['ScheduledDay'][0])\n",
    "type(df['AppointmentDay'][0])\n",
    "type(df['Gender'][0])"
   ]
  },
  {
   "cell_type": "markdown",
   "id": "4f358496",
   "metadata": {},
   "source": [
    "strings will appear as objects in Pandas."
   ]
  },
  {
   "cell_type": "code",
   "execution_count": 8,
   "id": "6a84e716",
   "metadata": {},
   "outputs": [
    {
     "data": {
      "text/html": [
       "<div>\n",
       "<style scoped>\n",
       "    .dataframe tbody tr th:only-of-type {\n",
       "        vertical-align: middle;\n",
       "    }\n",
       "\n",
       "    .dataframe tbody tr th {\n",
       "        vertical-align: top;\n",
       "    }\n",
       "\n",
       "    .dataframe thead th {\n",
       "        text-align: right;\n",
       "    }\n",
       "</style>\n",
       "<table border=\"1\" class=\"dataframe\">\n",
       "  <thead>\n",
       "    <tr style=\"text-align: right;\">\n",
       "      <th></th>\n",
       "      <th>PatientId</th>\n",
       "      <th>AppointmentID</th>\n",
       "      <th>Age</th>\n",
       "      <th>Scholarship</th>\n",
       "      <th>Hipertension</th>\n",
       "      <th>Diabetes</th>\n",
       "      <th>Alcoholism</th>\n",
       "      <th>Handcap</th>\n",
       "      <th>SMS_received</th>\n",
       "    </tr>\n",
       "  </thead>\n",
       "  <tbody>\n",
       "    <tr>\n",
       "      <th>count</th>\n",
       "      <td>1.105270e+05</td>\n",
       "      <td>1.105270e+05</td>\n",
       "      <td>110527.000000</td>\n",
       "      <td>110527.000000</td>\n",
       "      <td>110527.000000</td>\n",
       "      <td>110527.000000</td>\n",
       "      <td>110527.000000</td>\n",
       "      <td>110527.000000</td>\n",
       "      <td>110527.000000</td>\n",
       "    </tr>\n",
       "    <tr>\n",
       "      <th>mean</th>\n",
       "      <td>1.474963e+14</td>\n",
       "      <td>5.675305e+06</td>\n",
       "      <td>37.088874</td>\n",
       "      <td>0.098266</td>\n",
       "      <td>0.197246</td>\n",
       "      <td>0.071865</td>\n",
       "      <td>0.030400</td>\n",
       "      <td>0.022248</td>\n",
       "      <td>0.321026</td>\n",
       "    </tr>\n",
       "    <tr>\n",
       "      <th>std</th>\n",
       "      <td>2.560949e+14</td>\n",
       "      <td>7.129575e+04</td>\n",
       "      <td>23.110205</td>\n",
       "      <td>0.297675</td>\n",
       "      <td>0.397921</td>\n",
       "      <td>0.258265</td>\n",
       "      <td>0.171686</td>\n",
       "      <td>0.161543</td>\n",
       "      <td>0.466873</td>\n",
       "    </tr>\n",
       "    <tr>\n",
       "      <th>min</th>\n",
       "      <td>3.921784e+04</td>\n",
       "      <td>5.030230e+06</td>\n",
       "      <td>-1.000000</td>\n",
       "      <td>0.000000</td>\n",
       "      <td>0.000000</td>\n",
       "      <td>0.000000</td>\n",
       "      <td>0.000000</td>\n",
       "      <td>0.000000</td>\n",
       "      <td>0.000000</td>\n",
       "    </tr>\n",
       "    <tr>\n",
       "      <th>25%</th>\n",
       "      <td>4.172614e+12</td>\n",
       "      <td>5.640286e+06</td>\n",
       "      <td>18.000000</td>\n",
       "      <td>0.000000</td>\n",
       "      <td>0.000000</td>\n",
       "      <td>0.000000</td>\n",
       "      <td>0.000000</td>\n",
       "      <td>0.000000</td>\n",
       "      <td>0.000000</td>\n",
       "    </tr>\n",
       "    <tr>\n",
       "      <th>50%</th>\n",
       "      <td>3.173184e+13</td>\n",
       "      <td>5.680573e+06</td>\n",
       "      <td>37.000000</td>\n",
       "      <td>0.000000</td>\n",
       "      <td>0.000000</td>\n",
       "      <td>0.000000</td>\n",
       "      <td>0.000000</td>\n",
       "      <td>0.000000</td>\n",
       "      <td>0.000000</td>\n",
       "    </tr>\n",
       "    <tr>\n",
       "      <th>75%</th>\n",
       "      <td>9.439172e+13</td>\n",
       "      <td>5.725524e+06</td>\n",
       "      <td>55.000000</td>\n",
       "      <td>0.000000</td>\n",
       "      <td>0.000000</td>\n",
       "      <td>0.000000</td>\n",
       "      <td>0.000000</td>\n",
       "      <td>0.000000</td>\n",
       "      <td>1.000000</td>\n",
       "    </tr>\n",
       "    <tr>\n",
       "      <th>max</th>\n",
       "      <td>9.999816e+14</td>\n",
       "      <td>5.790484e+06</td>\n",
       "      <td>115.000000</td>\n",
       "      <td>1.000000</td>\n",
       "      <td>1.000000</td>\n",
       "      <td>1.000000</td>\n",
       "      <td>1.000000</td>\n",
       "      <td>4.000000</td>\n",
       "      <td>1.000000</td>\n",
       "    </tr>\n",
       "  </tbody>\n",
       "</table>\n",
       "</div>"
      ],
      "text/plain": [
       "          PatientId  AppointmentID            Age    Scholarship  \\\n",
       "count  1.105270e+05   1.105270e+05  110527.000000  110527.000000   \n",
       "mean   1.474963e+14   5.675305e+06      37.088874       0.098266   \n",
       "std    2.560949e+14   7.129575e+04      23.110205       0.297675   \n",
       "min    3.921784e+04   5.030230e+06      -1.000000       0.000000   \n",
       "25%    4.172614e+12   5.640286e+06      18.000000       0.000000   \n",
       "50%    3.173184e+13   5.680573e+06      37.000000       0.000000   \n",
       "75%    9.439172e+13   5.725524e+06      55.000000       0.000000   \n",
       "max    9.999816e+14   5.790484e+06     115.000000       1.000000   \n",
       "\n",
       "        Hipertension       Diabetes     Alcoholism        Handcap  \\\n",
       "count  110527.000000  110527.000000  110527.000000  110527.000000   \n",
       "mean        0.197246       0.071865       0.030400       0.022248   \n",
       "std         0.397921       0.258265       0.171686       0.161543   \n",
       "min         0.000000       0.000000       0.000000       0.000000   \n",
       "25%         0.000000       0.000000       0.000000       0.000000   \n",
       "50%         0.000000       0.000000       0.000000       0.000000   \n",
       "75%         0.000000       0.000000       0.000000       0.000000   \n",
       "max         1.000000       1.000000       1.000000       4.000000   \n",
       "\n",
       "        SMS_received  \n",
       "count  110527.000000  \n",
       "mean        0.321026  \n",
       "std         0.466873  \n",
       "min         0.000000  \n",
       "25%         0.000000  \n",
       "50%         0.000000  \n",
       "75%         1.000000  \n",
       "max         1.000000  "
      ]
     },
     "execution_count": 8,
     "metadata": {},
     "output_type": "execute_result"
    }
   ],
   "source": [
    "\n",
    "#to check nature of each data set we use following command\n",
    "df.describe()\n"
   ]
  },
  {
   "cell_type": "markdown",
   "id": "42af41f2",
   "metadata": {},
   "source": [
    "1-Above output shows that Age is having negative values which can be a human error/typing error. we can clean this value in data clenaing process in next step.Age also ranges from youg patients to old patients like 115.\n",
    "\n",
    "2-patientid is an float datatype which can be converted to INT data type instaed of float.\n",
    "\n",
    "3- scholarship column values are either '0' and '1' that means patients are getting welfare paymets from Brazilian Governmnet payment welfare system or they are not getting welfare payments.\n",
    "\n",
    "4-similarly if we see column 'Hipertension' 'Diabetes' 'Alcoholism' they also have int values '0' or '1'.\n",
    "\n",
    "5-Handcap column has max of 4 value which is to be analyzed that why this value is '4'?we will correct it in data cleaning process.\n",
    "\n",
    "6-SMS_received is again '0' or '1'.\n",
    "\n",
    "7- other columns seems to be missing so to analyse them statistically we use the following code:"
   ]
  },
  {
   "cell_type": "code",
   "execution_count": 9,
   "id": "67a62f97",
   "metadata": {
    "scrolled": true
   },
   "outputs": [
    {
     "data": {
      "text/html": [
       "<div>\n",
       "<style scoped>\n",
       "    .dataframe tbody tr th:only-of-type {\n",
       "        vertical-align: middle;\n",
       "    }\n",
       "\n",
       "    .dataframe tbody tr th {\n",
       "        vertical-align: top;\n",
       "    }\n",
       "\n",
       "    .dataframe thead th {\n",
       "        text-align: right;\n",
       "    }\n",
       "</style>\n",
       "<table border=\"1\" class=\"dataframe\">\n",
       "  <thead>\n",
       "    <tr style=\"text-align: right;\">\n",
       "      <th></th>\n",
       "      <th>PatientId</th>\n",
       "      <th>AppointmentID</th>\n",
       "      <th>Gender</th>\n",
       "      <th>ScheduledDay</th>\n",
       "      <th>AppointmentDay</th>\n",
       "      <th>Age</th>\n",
       "      <th>Neighbourhood</th>\n",
       "      <th>Scholarship</th>\n",
       "      <th>Hipertension</th>\n",
       "      <th>Diabetes</th>\n",
       "      <th>Alcoholism</th>\n",
       "      <th>Handcap</th>\n",
       "      <th>SMS_received</th>\n",
       "      <th>No-show</th>\n",
       "    </tr>\n",
       "  </thead>\n",
       "  <tbody>\n",
       "    <tr>\n",
       "      <th>count</th>\n",
       "      <td>1.105270e+05</td>\n",
       "      <td>1.105270e+05</td>\n",
       "      <td>110527</td>\n",
       "      <td>110527</td>\n",
       "      <td>110527</td>\n",
       "      <td>110527.000000</td>\n",
       "      <td>110527</td>\n",
       "      <td>110527.000000</td>\n",
       "      <td>110527.000000</td>\n",
       "      <td>110527.000000</td>\n",
       "      <td>110527.000000</td>\n",
       "      <td>110527.000000</td>\n",
       "      <td>110527.000000</td>\n",
       "      <td>110527</td>\n",
       "    </tr>\n",
       "    <tr>\n",
       "      <th>unique</th>\n",
       "      <td>NaN</td>\n",
       "      <td>NaN</td>\n",
       "      <td>2</td>\n",
       "      <td>103549</td>\n",
       "      <td>27</td>\n",
       "      <td>NaN</td>\n",
       "      <td>81</td>\n",
       "      <td>NaN</td>\n",
       "      <td>NaN</td>\n",
       "      <td>NaN</td>\n",
       "      <td>NaN</td>\n",
       "      <td>NaN</td>\n",
       "      <td>NaN</td>\n",
       "      <td>2</td>\n",
       "    </tr>\n",
       "    <tr>\n",
       "      <th>top</th>\n",
       "      <td>NaN</td>\n",
       "      <td>NaN</td>\n",
       "      <td>F</td>\n",
       "      <td>2016-05-06T07:09:54Z</td>\n",
       "      <td>2016-06-06T00:00:00Z</td>\n",
       "      <td>NaN</td>\n",
       "      <td>JARDIM CAMBURI</td>\n",
       "      <td>NaN</td>\n",
       "      <td>NaN</td>\n",
       "      <td>NaN</td>\n",
       "      <td>NaN</td>\n",
       "      <td>NaN</td>\n",
       "      <td>NaN</td>\n",
       "      <td>No</td>\n",
       "    </tr>\n",
       "    <tr>\n",
       "      <th>freq</th>\n",
       "      <td>NaN</td>\n",
       "      <td>NaN</td>\n",
       "      <td>71840</td>\n",
       "      <td>24</td>\n",
       "      <td>4692</td>\n",
       "      <td>NaN</td>\n",
       "      <td>7717</td>\n",
       "      <td>NaN</td>\n",
       "      <td>NaN</td>\n",
       "      <td>NaN</td>\n",
       "      <td>NaN</td>\n",
       "      <td>NaN</td>\n",
       "      <td>NaN</td>\n",
       "      <td>88208</td>\n",
       "    </tr>\n",
       "    <tr>\n",
       "      <th>mean</th>\n",
       "      <td>1.474963e+14</td>\n",
       "      <td>5.675305e+06</td>\n",
       "      <td>NaN</td>\n",
       "      <td>NaN</td>\n",
       "      <td>NaN</td>\n",
       "      <td>37.088874</td>\n",
       "      <td>NaN</td>\n",
       "      <td>0.098266</td>\n",
       "      <td>0.197246</td>\n",
       "      <td>0.071865</td>\n",
       "      <td>0.030400</td>\n",
       "      <td>0.022248</td>\n",
       "      <td>0.321026</td>\n",
       "      <td>NaN</td>\n",
       "    </tr>\n",
       "    <tr>\n",
       "      <th>std</th>\n",
       "      <td>2.560949e+14</td>\n",
       "      <td>7.129575e+04</td>\n",
       "      <td>NaN</td>\n",
       "      <td>NaN</td>\n",
       "      <td>NaN</td>\n",
       "      <td>23.110205</td>\n",
       "      <td>NaN</td>\n",
       "      <td>0.297675</td>\n",
       "      <td>0.397921</td>\n",
       "      <td>0.258265</td>\n",
       "      <td>0.171686</td>\n",
       "      <td>0.161543</td>\n",
       "      <td>0.466873</td>\n",
       "      <td>NaN</td>\n",
       "    </tr>\n",
       "    <tr>\n",
       "      <th>min</th>\n",
       "      <td>3.921784e+04</td>\n",
       "      <td>5.030230e+06</td>\n",
       "      <td>NaN</td>\n",
       "      <td>NaN</td>\n",
       "      <td>NaN</td>\n",
       "      <td>-1.000000</td>\n",
       "      <td>NaN</td>\n",
       "      <td>0.000000</td>\n",
       "      <td>0.000000</td>\n",
       "      <td>0.000000</td>\n",
       "      <td>0.000000</td>\n",
       "      <td>0.000000</td>\n",
       "      <td>0.000000</td>\n",
       "      <td>NaN</td>\n",
       "    </tr>\n",
       "    <tr>\n",
       "      <th>25%</th>\n",
       "      <td>4.172614e+12</td>\n",
       "      <td>5.640286e+06</td>\n",
       "      <td>NaN</td>\n",
       "      <td>NaN</td>\n",
       "      <td>NaN</td>\n",
       "      <td>18.000000</td>\n",
       "      <td>NaN</td>\n",
       "      <td>0.000000</td>\n",
       "      <td>0.000000</td>\n",
       "      <td>0.000000</td>\n",
       "      <td>0.000000</td>\n",
       "      <td>0.000000</td>\n",
       "      <td>0.000000</td>\n",
       "      <td>NaN</td>\n",
       "    </tr>\n",
       "    <tr>\n",
       "      <th>50%</th>\n",
       "      <td>3.173184e+13</td>\n",
       "      <td>5.680573e+06</td>\n",
       "      <td>NaN</td>\n",
       "      <td>NaN</td>\n",
       "      <td>NaN</td>\n",
       "      <td>37.000000</td>\n",
       "      <td>NaN</td>\n",
       "      <td>0.000000</td>\n",
       "      <td>0.000000</td>\n",
       "      <td>0.000000</td>\n",
       "      <td>0.000000</td>\n",
       "      <td>0.000000</td>\n",
       "      <td>0.000000</td>\n",
       "      <td>NaN</td>\n",
       "    </tr>\n",
       "    <tr>\n",
       "      <th>75%</th>\n",
       "      <td>9.439172e+13</td>\n",
       "      <td>5.725524e+06</td>\n",
       "      <td>NaN</td>\n",
       "      <td>NaN</td>\n",
       "      <td>NaN</td>\n",
       "      <td>55.000000</td>\n",
       "      <td>NaN</td>\n",
       "      <td>0.000000</td>\n",
       "      <td>0.000000</td>\n",
       "      <td>0.000000</td>\n",
       "      <td>0.000000</td>\n",
       "      <td>0.000000</td>\n",
       "      <td>1.000000</td>\n",
       "      <td>NaN</td>\n",
       "    </tr>\n",
       "    <tr>\n",
       "      <th>max</th>\n",
       "      <td>9.999816e+14</td>\n",
       "      <td>5.790484e+06</td>\n",
       "      <td>NaN</td>\n",
       "      <td>NaN</td>\n",
       "      <td>NaN</td>\n",
       "      <td>115.000000</td>\n",
       "      <td>NaN</td>\n",
       "      <td>1.000000</td>\n",
       "      <td>1.000000</td>\n",
       "      <td>1.000000</td>\n",
       "      <td>1.000000</td>\n",
       "      <td>4.000000</td>\n",
       "      <td>1.000000</td>\n",
       "      <td>NaN</td>\n",
       "    </tr>\n",
       "  </tbody>\n",
       "</table>\n",
       "</div>"
      ],
      "text/plain": [
       "           PatientId  AppointmentID  Gender          ScheduledDay  \\\n",
       "count   1.105270e+05   1.105270e+05  110527                110527   \n",
       "unique           NaN            NaN       2                103549   \n",
       "top              NaN            NaN       F  2016-05-06T07:09:54Z   \n",
       "freq             NaN            NaN   71840                    24   \n",
       "mean    1.474963e+14   5.675305e+06     NaN                   NaN   \n",
       "std     2.560949e+14   7.129575e+04     NaN                   NaN   \n",
       "min     3.921784e+04   5.030230e+06     NaN                   NaN   \n",
       "25%     4.172614e+12   5.640286e+06     NaN                   NaN   \n",
       "50%     3.173184e+13   5.680573e+06     NaN                   NaN   \n",
       "75%     9.439172e+13   5.725524e+06     NaN                   NaN   \n",
       "max     9.999816e+14   5.790484e+06     NaN                   NaN   \n",
       "\n",
       "              AppointmentDay            Age   Neighbourhood    Scholarship  \\\n",
       "count                 110527  110527.000000          110527  110527.000000   \n",
       "unique                    27            NaN              81            NaN   \n",
       "top     2016-06-06T00:00:00Z            NaN  JARDIM CAMBURI            NaN   \n",
       "freq                    4692            NaN            7717            NaN   \n",
       "mean                     NaN      37.088874             NaN       0.098266   \n",
       "std                      NaN      23.110205             NaN       0.297675   \n",
       "min                      NaN      -1.000000             NaN       0.000000   \n",
       "25%                      NaN      18.000000             NaN       0.000000   \n",
       "50%                      NaN      37.000000             NaN       0.000000   \n",
       "75%                      NaN      55.000000             NaN       0.000000   \n",
       "max                      NaN     115.000000             NaN       1.000000   \n",
       "\n",
       "         Hipertension       Diabetes     Alcoholism        Handcap  \\\n",
       "count   110527.000000  110527.000000  110527.000000  110527.000000   \n",
       "unique            NaN            NaN            NaN            NaN   \n",
       "top               NaN            NaN            NaN            NaN   \n",
       "freq              NaN            NaN            NaN            NaN   \n",
       "mean         0.197246       0.071865       0.030400       0.022248   \n",
       "std          0.397921       0.258265       0.171686       0.161543   \n",
       "min          0.000000       0.000000       0.000000       0.000000   \n",
       "25%          0.000000       0.000000       0.000000       0.000000   \n",
       "50%          0.000000       0.000000       0.000000       0.000000   \n",
       "75%          0.000000       0.000000       0.000000       0.000000   \n",
       "max          1.000000       1.000000       1.000000       4.000000   \n",
       "\n",
       "         SMS_received No-show  \n",
       "count   110527.000000  110527  \n",
       "unique            NaN       2  \n",
       "top               NaN      No  \n",
       "freq              NaN   88208  \n",
       "mean         0.321026     NaN  \n",
       "std          0.466873     NaN  \n",
       "min          0.000000     NaN  \n",
       "25%          0.000000     NaN  \n",
       "50%          0.000000     NaN  \n",
       "75%          1.000000     NaN  \n",
       "max          1.000000     NaN  "
      ]
     },
     "execution_count": 9,
     "metadata": {},
     "output_type": "execute_result"
    }
   ],
   "source": [
    "df.describe(include =\"all\")\n",
    "#Describing all columns of a DataFrame regardless of data type."
   ]
  },
  {
   "cell_type": "markdown",
   "id": "dae10886",
   "metadata": {},
   "source": [
    "Now we can statiscally analyse all columns in this dataset.\n",
    "\n",
    "1-gender is either 'M' or 'F'(male or female) and data shows mostly Female patients are showing up on their appointment day.\n",
    "\n",
    "2-No-show column is also like 'N'or 'Y' ."
   ]
  },
  {
   "cell_type": "markdown",
   "id": "5e3b1b8d",
   "metadata": {},
   "source": [
    "Also by analysing above data statistics we can analyse top='No' in No-show column which shows that most people are attending their appointments on scheduled time or on their appointment day.\n",
    "freq shows Frequency of people attending appointments on scheduled day is 88208."
   ]
  },
  {
   "cell_type": "markdown",
   "id": "b02fa6a4",
   "metadata": {},
   "source": [
    "Mean value of Age is 37"
   ]
  },
  {
   "cell_type": "markdown",
   "id": "4dcd9a2c",
   "metadata": {},
   "source": [
    "Also 75th percentile of Age is 55."
   ]
  },
  {
   "cell_type": "code",
   "execution_count": 10,
   "id": "842e75f3",
   "metadata": {},
   "outputs": [
    {
     "data": {
      "text/html": [
       "<div>\n",
       "<style scoped>\n",
       "    .dataframe tbody tr th:only-of-type {\n",
       "        vertical-align: middle;\n",
       "    }\n",
       "\n",
       "    .dataframe tbody tr th {\n",
       "        vertical-align: top;\n",
       "    }\n",
       "\n",
       "    .dataframe thead th {\n",
       "        text-align: right;\n",
       "    }\n",
       "</style>\n",
       "<table border=\"1\" class=\"dataframe\">\n",
       "  <thead>\n",
       "    <tr style=\"text-align: right;\">\n",
       "      <th></th>\n",
       "      <th>PatientId</th>\n",
       "      <th>AppointmentID</th>\n",
       "      <th>Gender</th>\n",
       "      <th>ScheduledDay</th>\n",
       "      <th>AppointmentDay</th>\n",
       "      <th>Age</th>\n",
       "      <th>Neighbourhood</th>\n",
       "      <th>Scholarship</th>\n",
       "      <th>Hipertension</th>\n",
       "      <th>Diabetes</th>\n",
       "      <th>Alcoholism</th>\n",
       "      <th>Handcap</th>\n",
       "      <th>SMS_received</th>\n",
       "      <th>No-show</th>\n",
       "    </tr>\n",
       "  </thead>\n",
       "  <tbody>\n",
       "    <tr>\n",
       "      <th>0</th>\n",
       "      <td>2.987250e+13</td>\n",
       "      <td>5642903</td>\n",
       "      <td>F</td>\n",
       "      <td>2016-04-29T18:38:08Z</td>\n",
       "      <td>2016-04-29T00:00:00Z</td>\n",
       "      <td>62</td>\n",
       "      <td>JARDIM DA PENHA</td>\n",
       "      <td>0</td>\n",
       "      <td>1</td>\n",
       "      <td>0</td>\n",
       "      <td>0</td>\n",
       "      <td>0</td>\n",
       "      <td>0</td>\n",
       "      <td>No</td>\n",
       "    </tr>\n",
       "    <tr>\n",
       "      <th>1</th>\n",
       "      <td>5.589978e+14</td>\n",
       "      <td>5642503</td>\n",
       "      <td>M</td>\n",
       "      <td>2016-04-29T16:08:27Z</td>\n",
       "      <td>2016-04-29T00:00:00Z</td>\n",
       "      <td>56</td>\n",
       "      <td>JARDIM DA PENHA</td>\n",
       "      <td>0</td>\n",
       "      <td>0</td>\n",
       "      <td>0</td>\n",
       "      <td>0</td>\n",
       "      <td>0</td>\n",
       "      <td>0</td>\n",
       "      <td>No</td>\n",
       "    </tr>\n",
       "    <tr>\n",
       "      <th>2</th>\n",
       "      <td>4.262962e+12</td>\n",
       "      <td>5642549</td>\n",
       "      <td>F</td>\n",
       "      <td>2016-04-29T16:19:04Z</td>\n",
       "      <td>2016-04-29T00:00:00Z</td>\n",
       "      <td>62</td>\n",
       "      <td>MATA DA PRAIA</td>\n",
       "      <td>0</td>\n",
       "      <td>0</td>\n",
       "      <td>0</td>\n",
       "      <td>0</td>\n",
       "      <td>0</td>\n",
       "      <td>0</td>\n",
       "      <td>No</td>\n",
       "    </tr>\n",
       "    <tr>\n",
       "      <th>3</th>\n",
       "      <td>8.679512e+11</td>\n",
       "      <td>5642828</td>\n",
       "      <td>F</td>\n",
       "      <td>2016-04-29T17:29:31Z</td>\n",
       "      <td>2016-04-29T00:00:00Z</td>\n",
       "      <td>8</td>\n",
       "      <td>PONTAL DE CAMBURI</td>\n",
       "      <td>0</td>\n",
       "      <td>0</td>\n",
       "      <td>0</td>\n",
       "      <td>0</td>\n",
       "      <td>0</td>\n",
       "      <td>0</td>\n",
       "      <td>No</td>\n",
       "    </tr>\n",
       "    <tr>\n",
       "      <th>4</th>\n",
       "      <td>8.841186e+12</td>\n",
       "      <td>5642494</td>\n",
       "      <td>F</td>\n",
       "      <td>2016-04-29T16:07:23Z</td>\n",
       "      <td>2016-04-29T00:00:00Z</td>\n",
       "      <td>56</td>\n",
       "      <td>JARDIM DA PENHA</td>\n",
       "      <td>0</td>\n",
       "      <td>1</td>\n",
       "      <td>1</td>\n",
       "      <td>0</td>\n",
       "      <td>0</td>\n",
       "      <td>0</td>\n",
       "      <td>No</td>\n",
       "    </tr>\n",
       "  </tbody>\n",
       "</table>\n",
       "</div>"
      ],
      "text/plain": [
       "      PatientId  AppointmentID Gender          ScheduledDay  \\\n",
       "0  2.987250e+13        5642903      F  2016-04-29T18:38:08Z   \n",
       "1  5.589978e+14        5642503      M  2016-04-29T16:08:27Z   \n",
       "2  4.262962e+12        5642549      F  2016-04-29T16:19:04Z   \n",
       "3  8.679512e+11        5642828      F  2016-04-29T17:29:31Z   \n",
       "4  8.841186e+12        5642494      F  2016-04-29T16:07:23Z   \n",
       "\n",
       "         AppointmentDay  Age      Neighbourhood  Scholarship  Hipertension  \\\n",
       "0  2016-04-29T00:00:00Z   62    JARDIM DA PENHA            0             1   \n",
       "1  2016-04-29T00:00:00Z   56    JARDIM DA PENHA            0             0   \n",
       "2  2016-04-29T00:00:00Z   62      MATA DA PRAIA            0             0   \n",
       "3  2016-04-29T00:00:00Z    8  PONTAL DE CAMBURI            0             0   \n",
       "4  2016-04-29T00:00:00Z   56    JARDIM DA PENHA            0             1   \n",
       "\n",
       "   Diabetes  Alcoholism  Handcap  SMS_received No-show  \n",
       "0         0           0        0             0      No  \n",
       "1         0           0        0             0      No  \n",
       "2         0           0        0             0      No  \n",
       "3         0           0        0             0      No  \n",
       "4         1           0        0             0      No  "
      ]
     },
     "execution_count": 10,
     "metadata": {},
     "output_type": "execute_result"
    }
   ],
   "source": [
    "df.head()"
   ]
  },
  {
   "cell_type": "code",
   "execution_count": 11,
   "id": "5bc1901c",
   "metadata": {},
   "outputs": [
    {
     "data": {
      "text/plain": [
       "110527"
      ]
     },
     "execution_count": 11,
     "metadata": {},
     "output_type": "execute_result"
    }
   ],
   "source": [
    " # here we can also check if AppointmentID is a unique row \n",
    "df.AppointmentID.nunique()"
   ]
  },
  {
   "cell_type": "markdown",
   "id": "bd7e6e1a",
   "metadata": {},
   "source": [
    "# Data Cleaning:\n",
    "\n",
    "Now we will clean our patient appointment system dataset to make it more readable and understandable.We will remove all descrepencies in our dataset and make it more readable.for data Cleaning process we will follow following steps.\n",
    "\n",
    "1-Check for Missing Data:\n"
   ]
  },
  {
   "cell_type": "code",
   "execution_count": 12,
   "id": "d0bc3b85",
   "metadata": {},
   "outputs": [
    {
     "name": "stdout",
     "output_type": "stream",
     "text": [
      "<class 'pandas.core.frame.DataFrame'>\n",
      "RangeIndex: 110527 entries, 0 to 110526\n",
      "Data columns (total 14 columns):\n",
      " #   Column          Non-Null Count   Dtype  \n",
      "---  ------          --------------   -----  \n",
      " 0   PatientId       110527 non-null  float64\n",
      " 1   AppointmentID   110527 non-null  int64  \n",
      " 2   Gender          110527 non-null  object \n",
      " 3   ScheduledDay    110527 non-null  object \n",
      " 4   AppointmentDay  110527 non-null  object \n",
      " 5   Age             110527 non-null  int64  \n",
      " 6   Neighbourhood   110527 non-null  object \n",
      " 7   Scholarship     110527 non-null  int64  \n",
      " 8   Hipertension    110527 non-null  int64  \n",
      " 9   Diabetes        110527 non-null  int64  \n",
      " 10  Alcoholism      110527 non-null  int64  \n",
      " 11  Handcap         110527 non-null  int64  \n",
      " 12  SMS_received    110527 non-null  int64  \n",
      " 13  No-show         110527 non-null  object \n",
      "dtypes: float64(1), int64(8), object(5)\n",
      "memory usage: 11.8+ MB\n"
     ]
    }
   ],
   "source": [
    "#to check all data types of columns and to verify if there is NULL value or not\n",
    "df.info()\n"
   ]
  },
  {
   "cell_type": "code",
   "execution_count": 13,
   "id": "3a503f51",
   "metadata": {},
   "outputs": [
    {
     "data": {
      "text/plain": [
       "False"
      ]
     },
     "execution_count": 13,
     "metadata": {},
     "output_type": "execute_result"
    }
   ],
   "source": [
    "# to confirm that there are no null values in this dataset we can also use\n",
    "df.isnull().sum().any()"
   ]
  },
  {
   "cell_type": "markdown",
   "id": "04b73019",
   "metadata": {},
   "source": [
    "The above output shows there is no Null values and data types are accordingly.\n"
   ]
  },
  {
   "cell_type": "markdown",
   "id": "eed0fb69",
   "metadata": {},
   "source": [
    "2-Check for Duplicates\n",
    "In second step of data cleaning process we will check if there is any data duplication or any row that is repeating in our dataset.we use following code to check for duplicate rows."
   ]
  },
  {
   "cell_type": "code",
   "execution_count": 14,
   "id": "63454a72",
   "metadata": {},
   "outputs": [
    {
     "data": {
      "text/plain": [
       "0         False\n",
       "1         False\n",
       "2         False\n",
       "3         False\n",
       "4         False\n",
       "          ...  \n",
       "110522    False\n",
       "110523    False\n",
       "110524    False\n",
       "110525    False\n",
       "110526    False\n",
       "Length: 110527, dtype: bool"
      ]
     },
     "execution_count": 14,
     "metadata": {},
     "output_type": "execute_result"
    }
   ],
   "source": [
    "df.duplicated()"
   ]
  },
  {
   "cell_type": "markdown",
   "id": "bd58b9ab",
   "metadata": {},
   "source": [
    "The above output clearly shows that there is no duplicate data row in this dataset."
   ]
  },
  {
   "cell_type": "markdown",
   "id": "773e6b59",
   "metadata": {},
   "source": [
    "3-Check for Structure or incorrect data types in datset.\n"
   ]
  },
  {
   "cell_type": "markdown",
   "id": "a02538a2",
   "metadata": {},
   "source": [
    "\n",
    "-PatientId is float data type which is correct as float data type in python represents real numbers and is written with a decimal point dividing the integer and fractional part.if we look at the above output dataset this seems very clear.\n",
    "-AppointmentId in integer.\n",
    "-Gender values are 'F' OR 'M' which is object."
   ]
  },
  {
   "cell_type": "markdown",
   "id": "31119737",
   "metadata": {},
   "source": [
    "-There are two misspelled columns in this dataset.one is Hipertension which should be Hypertension and other one is handcap which should be Handicap.\n",
    "First we correct them:"
   ]
  },
  {
   "cell_type": "code",
   "execution_count": 15,
   "id": "63c6470a",
   "metadata": {},
   "outputs": [],
   "source": [
    "#renaming misspelled columns and adding _ in few columns to give it more clarity.\n",
    "df.rename(columns={\"Hipertension\": \"Hypertension\",\"AppointmentID\": \"Appointment_id\",\"ScheduledDay\": \"Scheduled_date\",\"AppointmentDay\":\"Appointment_date\", \"Handcap\":\"Handicapped\", \"No-show\":\"Attented_Appointment\", \"PatientId\":\"Patient_id\"}, inplace=True)"
   ]
  },
  {
   "cell_type": "code",
   "execution_count": 16,
   "id": "45480f8d",
   "metadata": {},
   "outputs": [
    {
     "data": {
      "text/plain": [
       "array(['2016-04-29T18:38:08Z', '2016-04-29T16:08:27Z',\n",
       "       '2016-04-29T16:19:04Z', ..., '2016-04-27T16:03:52Z',\n",
       "       '2016-04-27T15:09:23Z', '2016-04-27T13:30:56Z'], dtype=object)"
      ]
     },
     "execution_count": 16,
     "metadata": {},
     "output_type": "execute_result"
    }
   ],
   "source": [
    "df.Scheduled_date.unique()"
   ]
  },
  {
   "cell_type": "code",
   "execution_count": 17,
   "id": "7a622bbe",
   "metadata": {},
   "outputs": [],
   "source": [
    "#The above data type should be datetime format in python\n",
    "df.Scheduled_date = df.Scheduled_date.apply(np.datetime64)\n"
   ]
  },
  {
   "cell_type": "code",
   "execution_count": 18,
   "id": "0a3579b4",
   "metadata": {},
   "outputs": [
    {
     "name": "stdout",
     "output_type": "stream",
     "text": [
      "<class 'pandas.core.frame.DataFrame'>\n",
      "RangeIndex: 110527 entries, 0 to 110526\n",
      "Data columns (total 14 columns):\n",
      " #   Column                Non-Null Count   Dtype         \n",
      "---  ------                --------------   -----         \n",
      " 0   Patient_id            110527 non-null  float64       \n",
      " 1   Appointment_id        110527 non-null  int64         \n",
      " 2   Gender                110527 non-null  object        \n",
      " 3   Scheduled_date        110527 non-null  datetime64[ns]\n",
      " 4   Appointment_date      110527 non-null  object        \n",
      " 5   Age                   110527 non-null  int64         \n",
      " 6   Neighbourhood         110527 non-null  object        \n",
      " 7   Scholarship           110527 non-null  int64         \n",
      " 8   Hypertension          110527 non-null  int64         \n",
      " 9   Diabetes              110527 non-null  int64         \n",
      " 10  Alcoholism            110527 non-null  int64         \n",
      " 11  Handicapped           110527 non-null  int64         \n",
      " 12  SMS_received          110527 non-null  int64         \n",
      " 13  Attented_Appointment  110527 non-null  object        \n",
      "dtypes: datetime64[ns](1), float64(1), int64(8), object(4)\n",
      "memory usage: 11.8+ MB\n"
     ]
    }
   ],
   "source": [
    "df.info()"
   ]
  },
  {
   "cell_type": "code",
   "execution_count": 19,
   "id": "f35a450e",
   "metadata": {},
   "outputs": [
    {
     "data": {
      "text/plain": [
       "array(['2016-04-29T00:00:00Z', '2016-05-03T00:00:00Z',\n",
       "       '2016-05-10T00:00:00Z', '2016-05-17T00:00:00Z',\n",
       "       '2016-05-24T00:00:00Z', '2016-05-31T00:00:00Z',\n",
       "       '2016-05-02T00:00:00Z', '2016-05-30T00:00:00Z',\n",
       "       '2016-05-16T00:00:00Z', '2016-05-04T00:00:00Z',\n",
       "       '2016-05-19T00:00:00Z', '2016-05-12T00:00:00Z',\n",
       "       '2016-05-06T00:00:00Z', '2016-05-20T00:00:00Z',\n",
       "       '2016-05-05T00:00:00Z', '2016-05-13T00:00:00Z',\n",
       "       '2016-05-09T00:00:00Z', '2016-05-25T00:00:00Z',\n",
       "       '2016-05-11T00:00:00Z', '2016-05-18T00:00:00Z',\n",
       "       '2016-05-14T00:00:00Z', '2016-06-02T00:00:00Z',\n",
       "       '2016-06-03T00:00:00Z', '2016-06-06T00:00:00Z',\n",
       "       '2016-06-07T00:00:00Z', '2016-06-01T00:00:00Z',\n",
       "       '2016-06-08T00:00:00Z'], dtype=object)"
      ]
     },
     "execution_count": 19,
     "metadata": {},
     "output_type": "execute_result"
    }
   ],
   "source": [
    "df.Appointment_date.unique()"
   ]
  },
  {
   "cell_type": "code",
   "execution_count": 20,
   "id": "d2dcf1f4",
   "metadata": {},
   "outputs": [],
   "source": [
    "#df.Appointment_date.unique()"
   ]
  },
  {
   "cell_type": "code",
   "execution_count": 21,
   "id": "a198381b",
   "metadata": {},
   "outputs": [],
   "source": [
    "#The above data type should be datetime format in python\n",
    "df.Appointment_date = df.Appointment_date.apply(np.datetime64)"
   ]
  },
  {
   "cell_type": "code",
   "execution_count": 22,
   "id": "7c7ec075",
   "metadata": {},
   "outputs": [
    {
     "name": "stdout",
     "output_type": "stream",
     "text": [
      "<class 'pandas.core.frame.DataFrame'>\n",
      "RangeIndex: 110527 entries, 0 to 110526\n",
      "Data columns (total 14 columns):\n",
      " #   Column                Non-Null Count   Dtype         \n",
      "---  ------                --------------   -----         \n",
      " 0   Patient_id            110527 non-null  float64       \n",
      " 1   Appointment_id        110527 non-null  int64         \n",
      " 2   Gender                110527 non-null  object        \n",
      " 3   Scheduled_date        110527 non-null  datetime64[ns]\n",
      " 4   Appointment_date      110527 non-null  datetime64[ns]\n",
      " 5   Age                   110527 non-null  int64         \n",
      " 6   Neighbourhood         110527 non-null  object        \n",
      " 7   Scholarship           110527 non-null  int64         \n",
      " 8   Hypertension          110527 non-null  int64         \n",
      " 9   Diabetes              110527 non-null  int64         \n",
      " 10  Alcoholism            110527 non-null  int64         \n",
      " 11  Handicapped           110527 non-null  int64         \n",
      " 12  SMS_received          110527 non-null  int64         \n",
      " 13  Attented_Appointment  110527 non-null  object        \n",
      "dtypes: datetime64[ns](2), float64(1), int64(8), object(3)\n",
      "memory usage: 11.8+ MB\n"
     ]
    }
   ],
   "source": [
    "df.info()#to make sure both columns Appointment_date and Scheduled_date are in correct format"
   ]
  },
  {
   "cell_type": "code",
   "execution_count": 23,
   "id": "12261080",
   "metadata": {},
   "outputs": [
    {
     "data": {
      "text/plain": [
       "array([ 62,  56,   8,  76,  23,  39,  21,  19,  30,  29,  22,  28,  54,\n",
       "        15,  50,  40,  46,   4,  13,  65,  45,  51,  32,  12,  61,  38,\n",
       "        79,  18,  63,  64,  85,  59,  55,  71,  49,  78,  31,  58,  27,\n",
       "         6,   2,  11,   7,   0,   3,   1,  69,  68,  60,  67,  36,  10,\n",
       "        35,  20,  26,  34,  33,  16,  42,   5,  47,  17,  41,  44,  37,\n",
       "        24,  66,  77,  81,  70,  53,  75,  73,  52,  74,  43,  89,  57,\n",
       "        14,   9,  48,  83,  72,  25,  80,  87,  88,  84,  82,  90,  94,\n",
       "        86,  91,  98,  92,  96,  93,  95,  97, 102, 115, 100,  99,  -1],\n",
       "      dtype=int64)"
      ]
     },
     "execution_count": 23,
     "metadata": {},
     "output_type": "execute_result"
    }
   ],
   "source": [
    "#Now lets analyse age column\n",
    "df.Age.unique()"
   ]
  },
  {
   "cell_type": "code",
   "execution_count": 24,
   "id": "ad447530",
   "metadata": {},
   "outputs": [],
   "source": [
    "#to remove negative value in Age\n",
    "df = df[(df.Age >= 0)]"
   ]
  },
  {
   "cell_type": "code",
   "execution_count": 25,
   "id": "012f178e",
   "metadata": {},
   "outputs": [
    {
     "data": {
      "text/plain": [
       "array([0, 1, 2, 3, 4], dtype=int64)"
      ]
     },
     "execution_count": 25,
     "metadata": {},
     "output_type": "execute_result"
    }
   ],
   "source": [
    "#to check unique values in new renamed Handicapped column\n",
    "df.Handicapped.unique()"
   ]
  },
  {
   "cell_type": "code",
   "execution_count": 26,
   "id": "c1824aaf",
   "metadata": {},
   "outputs": [
    {
     "data": {
      "text/plain": [
       "array([0, 1], dtype=int64)"
      ]
     },
     "execution_count": 26,
     "metadata": {},
     "output_type": "execute_result"
    }
   ],
   "source": [
    "df.SMS_received.unique()"
   ]
  },
  {
   "cell_type": "code",
   "execution_count": 27,
   "id": "0978ee84",
   "metadata": {},
   "outputs": [
    {
     "data": {
      "text/plain": [
       "array(['No', 'Yes'], dtype=object)"
      ]
     },
     "execution_count": 27,
     "metadata": {},
     "output_type": "execute_result"
    }
   ],
   "source": [
    "df.Attented_Appointment.unique()"
   ]
  },
  {
   "cell_type": "code",
   "execution_count": 28,
   "id": "42361fcd",
   "metadata": {},
   "outputs": [],
   "source": [
    "#replacing last column values to make it less confused"
   ]
  },
  {
   "cell_type": "code",
   "execution_count": 30,
   "id": "b629ea57",
   "metadata": {},
   "outputs": [],
   "source": [
    "df[\"Attented_Appointment\"].replace({\"Yes\":0,\"No\":1},inplace=True)\n",
    "df[\"Attented_Appointment\"] = pd.to_numeric(df[\"Attented_Appointment\"]) #change datatype for column to be numeric integer."
   ]
  },
  {
   "cell_type": "code",
   "execution_count": 31,
   "id": "f87925e4",
   "metadata": {},
   "outputs": [
    {
     "data": {
      "text/html": [
       "<div>\n",
       "<style scoped>\n",
       "    .dataframe tbody tr th:only-of-type {\n",
       "        vertical-align: middle;\n",
       "    }\n",
       "\n",
       "    .dataframe tbody tr th {\n",
       "        vertical-align: top;\n",
       "    }\n",
       "\n",
       "    .dataframe thead th {\n",
       "        text-align: right;\n",
       "    }\n",
       "</style>\n",
       "<table border=\"1\" class=\"dataframe\">\n",
       "  <thead>\n",
       "    <tr style=\"text-align: right;\">\n",
       "      <th></th>\n",
       "      <th>Patient_id</th>\n",
       "      <th>Appointment_id</th>\n",
       "      <th>Gender</th>\n",
       "      <th>Scheduled_date</th>\n",
       "      <th>Appointment_date</th>\n",
       "      <th>Age</th>\n",
       "      <th>Neighbourhood</th>\n",
       "      <th>Scholarship</th>\n",
       "      <th>Hypertension</th>\n",
       "      <th>Diabetes</th>\n",
       "      <th>Alcoholism</th>\n",
       "      <th>Handicapped</th>\n",
       "      <th>SMS_received</th>\n",
       "      <th>Attented_Appointment</th>\n",
       "    </tr>\n",
       "  </thead>\n",
       "  <tbody>\n",
       "    <tr>\n",
       "      <th>0</th>\n",
       "      <td>2.987250e+13</td>\n",
       "      <td>5642903</td>\n",
       "      <td>F</td>\n",
       "      <td>2016-04-29 18:38:08</td>\n",
       "      <td>2016-04-29</td>\n",
       "      <td>62</td>\n",
       "      <td>JARDIM DA PENHA</td>\n",
       "      <td>0</td>\n",
       "      <td>1</td>\n",
       "      <td>0</td>\n",
       "      <td>0</td>\n",
       "      <td>0</td>\n",
       "      <td>0</td>\n",
       "      <td>1</td>\n",
       "    </tr>\n",
       "    <tr>\n",
       "      <th>1</th>\n",
       "      <td>5.589978e+14</td>\n",
       "      <td>5642503</td>\n",
       "      <td>M</td>\n",
       "      <td>2016-04-29 16:08:27</td>\n",
       "      <td>2016-04-29</td>\n",
       "      <td>56</td>\n",
       "      <td>JARDIM DA PENHA</td>\n",
       "      <td>0</td>\n",
       "      <td>0</td>\n",
       "      <td>0</td>\n",
       "      <td>0</td>\n",
       "      <td>0</td>\n",
       "      <td>0</td>\n",
       "      <td>1</td>\n",
       "    </tr>\n",
       "    <tr>\n",
       "      <th>2</th>\n",
       "      <td>4.262962e+12</td>\n",
       "      <td>5642549</td>\n",
       "      <td>F</td>\n",
       "      <td>2016-04-29 16:19:04</td>\n",
       "      <td>2016-04-29</td>\n",
       "      <td>62</td>\n",
       "      <td>MATA DA PRAIA</td>\n",
       "      <td>0</td>\n",
       "      <td>0</td>\n",
       "      <td>0</td>\n",
       "      <td>0</td>\n",
       "      <td>0</td>\n",
       "      <td>0</td>\n",
       "      <td>1</td>\n",
       "    </tr>\n",
       "    <tr>\n",
       "      <th>3</th>\n",
       "      <td>8.679512e+11</td>\n",
       "      <td>5642828</td>\n",
       "      <td>F</td>\n",
       "      <td>2016-04-29 17:29:31</td>\n",
       "      <td>2016-04-29</td>\n",
       "      <td>8</td>\n",
       "      <td>PONTAL DE CAMBURI</td>\n",
       "      <td>0</td>\n",
       "      <td>0</td>\n",
       "      <td>0</td>\n",
       "      <td>0</td>\n",
       "      <td>0</td>\n",
       "      <td>0</td>\n",
       "      <td>1</td>\n",
       "    </tr>\n",
       "    <tr>\n",
       "      <th>4</th>\n",
       "      <td>8.841186e+12</td>\n",
       "      <td>5642494</td>\n",
       "      <td>F</td>\n",
       "      <td>2016-04-29 16:07:23</td>\n",
       "      <td>2016-04-29</td>\n",
       "      <td>56</td>\n",
       "      <td>JARDIM DA PENHA</td>\n",
       "      <td>0</td>\n",
       "      <td>1</td>\n",
       "      <td>1</td>\n",
       "      <td>0</td>\n",
       "      <td>0</td>\n",
       "      <td>0</td>\n",
       "      <td>1</td>\n",
       "    </tr>\n",
       "  </tbody>\n",
       "</table>\n",
       "</div>"
      ],
      "text/plain": [
       "     Patient_id  Appointment_id Gender      Scheduled_date Appointment_date  \\\n",
       "0  2.987250e+13         5642903      F 2016-04-29 18:38:08       2016-04-29   \n",
       "1  5.589978e+14         5642503      M 2016-04-29 16:08:27       2016-04-29   \n",
       "2  4.262962e+12         5642549      F 2016-04-29 16:19:04       2016-04-29   \n",
       "3  8.679512e+11         5642828      F 2016-04-29 17:29:31       2016-04-29   \n",
       "4  8.841186e+12         5642494      F 2016-04-29 16:07:23       2016-04-29   \n",
       "\n",
       "   Age      Neighbourhood  Scholarship  Hypertension  Diabetes  Alcoholism  \\\n",
       "0   62    JARDIM DA PENHA            0             1         0           0   \n",
       "1   56    JARDIM DA PENHA            0             0         0           0   \n",
       "2   62      MATA DA PRAIA            0             0         0           0   \n",
       "3    8  PONTAL DE CAMBURI            0             0         0           0   \n",
       "4   56    JARDIM DA PENHA            0             1         1           0   \n",
       "\n",
       "   Handicapped  SMS_received  Attented_Appointment  \n",
       "0            0             0                     1  \n",
       "1            0             0                     1  \n",
       "2            0             0                     1  \n",
       "3            0             0                     1  \n",
       "4            0             0                     1  "
      ]
     },
     "execution_count": 31,
     "metadata": {},
     "output_type": "execute_result"
    }
   ],
   "source": [
    "#shows data for last 5 rows\n",
    "df.head()"
   ]
  },
  {
   "cell_type": "markdown",
   "id": "e32f1006",
   "metadata": {},
   "source": [
    "# Exploratory Data Analysis:"
   ]
  },
  {
   "cell_type": "code",
   "execution_count": 32,
   "id": "7ef38931",
   "metadata": {},
   "outputs": [
    {
     "data": {
      "image/png": "[encoded data removed]",
      "text/plain": [
       "<Figure size 1080x1080 with 12 Axes>"
      ]
     },
     "metadata": {
      "needs_background": "light"
     },
     "output_type": "display_data"
    }
   ],
   "source": [
    "#Making Histograms to show values for data analysis.\n",
    "#It shows count of each category for different columns in this Patients Not attending appointments dataset.\n",
    "df.hist(figsize=(15,15));"
   ]
  },
  {
   "cell_type": "markdown",
   "id": "21cf3fe5",
   "metadata": {},
   "source": [
    "Statistics/findings from histogram: \n",
    "1-Patient_id and Appointment_id has no statistical meaning. \n",
    "2-Age histogram is right shifted that shows that most of the patients in this dataset are Young patients.Most of the patients are in age group of 35-55 years of Age.\n",
    "3-Scholorship histogram shows that only few patients in this Dataset are availing this Welfare scholorship from Brazilian Government.\n",
    "4-Hyperyension among patients seems to be around 30%.\n",
    "4-if we look at 'Diabetes' histograms it looks like there are very few patients in this datset with these two diseases.\n",
    "5-very few patients are Alcoholic.same is the case with Handicapped that quite a few percentage of patients in this datset is handicapped.\n"
   ]
  },
  {
   "cell_type": "markdown",
   "id": "72a44cd0",
   "metadata": {},
   "source": [
    "More than 30% patients have received SMS for attending appointment and as a reminder.so its is a significant data element of this dataset.we can use this attribute in our Data Wrangling.\n",
    "\n",
    "Similarly patients who have Hypertension is also significant so we can also use this column an important attribute to investigate this patients appointments dataset.\n"
   ]
  },
  {
   "cell_type": "markdown",
   "id": "65295f60",
   "metadata": {},
   "source": [
    "Research Question 1:\n",
    "    What percentage of patients in this Medical Appointment Attendance System dataset Missed their scheduled appointments?"
   ]
  },
  {
   "cell_type": "markdown",
   "id": "ab397791",
   "metadata": {},
   "source": [
    "For Exploratory analysis it is impotant to first check what percentage of patients are attending appointments vs which percentage of patients are missing their appointments\n"
   ]
  },
  {
   "cell_type": "code",
   "execution_count": 33,
   "id": "02d9c432",
   "metadata": {},
   "outputs": [],
   "source": [
    "#To find number of patients who were not able to attend their appointments or who didnt show up on their scheduled appointment date.\n",
    "df.Not_Attented_Appointment_count= df[df[\"Attented_Appointment\"]==0].count()[\"Patient_id\"]"
   ]
  },
  {
   "cell_type": "code",
   "execution_count": 34,
   "id": "31f2e749",
   "metadata": {},
   "outputs": [
    {
     "name": "stdout",
     "output_type": "stream",
     "text": [
      "22319\n"
     ]
    }
   ],
   "source": [
    "#print value of number of total patients who didnt attend their appointment.\n",
    "print (df.Not_Attented_Appointment_count)"
   ]
  },
  {
   "cell_type": "code",
   "execution_count": 35,
   "id": "bd7c8ab8",
   "metadata": {},
   "outputs": [],
   "source": [
    "#To find number of patients who attended their scheduled appointments or who attented their scheduled appointment date.\n",
    "df.Attented_Appointment_count= df[df[\"Attented_Appointment\"]==1].count()[\"Patient_id\"]"
   ]
  },
  {
   "cell_type": "code",
   "execution_count": 36,
   "id": "1511ba3b",
   "metadata": {},
   "outputs": [
    {
     "name": "stdout",
     "output_type": "stream",
     "text": [
      "88207\n"
     ]
    }
   ],
   "source": [
    "#print value of number of total patients who attended their appointment.\n",
    "print (df.Attented_Appointment_count)"
   ]
  },
  {
   "cell_type": "code",
   "execution_count": 37,
   "id": "9c3bcbbd",
   "metadata": {},
   "outputs": [
    {
     "data": {
      "text/html": [
       "<div>\n",
       "<style scoped>\n",
       "    .dataframe tbody tr th:only-of-type {\n",
       "        vertical-align: middle;\n",
       "    }\n",
       "\n",
       "    .dataframe tbody tr th {\n",
       "        vertical-align: top;\n",
       "    }\n",
       "\n",
       "    .dataframe thead th {\n",
       "        text-align: right;\n",
       "    }\n",
       "</style>\n",
       "<table border=\"1\" class=\"dataframe\">\n",
       "  <thead>\n",
       "    <tr style=\"text-align: right;\">\n",
       "      <th></th>\n",
       "      <th>Patient_id</th>\n",
       "      <th>Appointment_id</th>\n",
       "      <th>Gender</th>\n",
       "      <th>Scheduled_date</th>\n",
       "      <th>Appointment_date</th>\n",
       "      <th>Age</th>\n",
       "      <th>Neighbourhood</th>\n",
       "      <th>Scholarship</th>\n",
       "      <th>Hypertension</th>\n",
       "      <th>Diabetes</th>\n",
       "      <th>Alcoholism</th>\n",
       "      <th>Handicapped</th>\n",
       "      <th>SMS_received</th>\n",
       "      <th>Attented_Appointment</th>\n",
       "    </tr>\n",
       "  </thead>\n",
       "  <tbody>\n",
       "    <tr>\n",
       "      <th>0</th>\n",
       "      <td>2.987250e+13</td>\n",
       "      <td>5642903</td>\n",
       "      <td>F</td>\n",
       "      <td>2016-04-29 18:38:08</td>\n",
       "      <td>2016-04-29</td>\n",
       "      <td>62</td>\n",
       "      <td>JARDIM DA PENHA</td>\n",
       "      <td>0</td>\n",
       "      <td>1</td>\n",
       "      <td>0</td>\n",
       "      <td>0</td>\n",
       "      <td>0</td>\n",
       "      <td>0</td>\n",
       "      <td>1</td>\n",
       "    </tr>\n",
       "    <tr>\n",
       "      <th>1</th>\n",
       "      <td>5.589978e+14</td>\n",
       "      <td>5642503</td>\n",
       "      <td>M</td>\n",
       "      <td>2016-04-29 16:08:27</td>\n",
       "      <td>2016-04-29</td>\n",
       "      <td>56</td>\n",
       "      <td>JARDIM DA PENHA</td>\n",
       "      <td>0</td>\n",
       "      <td>0</td>\n",
       "      <td>0</td>\n",
       "      <td>0</td>\n",
       "      <td>0</td>\n",
       "      <td>0</td>\n",
       "      <td>1</td>\n",
       "    </tr>\n",
       "    <tr>\n",
       "      <th>2</th>\n",
       "      <td>4.262962e+12</td>\n",
       "      <td>5642549</td>\n",
       "      <td>F</td>\n",
       "      <td>2016-04-29 16:19:04</td>\n",
       "      <td>2016-04-29</td>\n",
       "      <td>62</td>\n",
       "      <td>MATA DA PRAIA</td>\n",
       "      <td>0</td>\n",
       "      <td>0</td>\n",
       "      <td>0</td>\n",
       "      <td>0</td>\n",
       "      <td>0</td>\n",
       "      <td>0</td>\n",
       "      <td>1</td>\n",
       "    </tr>\n",
       "    <tr>\n",
       "      <th>3</th>\n",
       "      <td>8.679512e+11</td>\n",
       "      <td>5642828</td>\n",
       "      <td>F</td>\n",
       "      <td>2016-04-29 17:29:31</td>\n",
       "      <td>2016-04-29</td>\n",
       "      <td>8</td>\n",
       "      <td>PONTAL DE CAMBURI</td>\n",
       "      <td>0</td>\n",
       "      <td>0</td>\n",
       "      <td>0</td>\n",
       "      <td>0</td>\n",
       "      <td>0</td>\n",
       "      <td>0</td>\n",
       "      <td>1</td>\n",
       "    </tr>\n",
       "    <tr>\n",
       "      <th>4</th>\n",
       "      <td>8.841186e+12</td>\n",
       "      <td>5642494</td>\n",
       "      <td>F</td>\n",
       "      <td>2016-04-29 16:07:23</td>\n",
       "      <td>2016-04-29</td>\n",
       "      <td>56</td>\n",
       "      <td>JARDIM DA PENHA</td>\n",
       "      <td>0</td>\n",
       "      <td>1</td>\n",
       "      <td>1</td>\n",
       "      <td>0</td>\n",
       "      <td>0</td>\n",
       "      <td>0</td>\n",
       "      <td>1</td>\n",
       "    </tr>\n",
       "  </tbody>\n",
       "</table>\n",
       "</div>"
      ],
      "text/plain": [
       "     Patient_id  Appointment_id Gender      Scheduled_date Appointment_date  \\\n",
       "0  2.987250e+13         5642903      F 2016-04-29 18:38:08       2016-04-29   \n",
       "1  5.589978e+14         5642503      M 2016-04-29 16:08:27       2016-04-29   \n",
       "2  4.262962e+12         5642549      F 2016-04-29 16:19:04       2016-04-29   \n",
       "3  8.679512e+11         5642828      F 2016-04-29 17:29:31       2016-04-29   \n",
       "4  8.841186e+12         5642494      F 2016-04-29 16:07:23       2016-04-29   \n",
       "\n",
       "   Age      Neighbourhood  Scholarship  Hypertension  Diabetes  Alcoholism  \\\n",
       "0   62    JARDIM DA PENHA            0             1         0           0   \n",
       "1   56    JARDIM DA PENHA            0             0         0           0   \n",
       "2   62      MATA DA PRAIA            0             0         0           0   \n",
       "3    8  PONTAL DE CAMBURI            0             0         0           0   \n",
       "4   56    JARDIM DA PENHA            0             1         1           0   \n",
       "\n",
       "   Handicapped  SMS_received  Attented_Appointment  \n",
       "0            0             0                     1  \n",
       "1            0             0                     1  \n",
       "2            0             0                     1  \n",
       "3            0             0                     1  \n",
       "4            0             0                     1  "
      ]
     },
     "execution_count": 37,
     "metadata": {},
     "output_type": "execute_result"
    }
   ],
   "source": [
    "df.head()#displaying few rows of dataset"
   ]
  },
  {
   "cell_type": "markdown",
   "id": "75579e3b",
   "metadata": {},
   "source": [
    "#     Question:\n",
    "       \n",
    "       What percentage of Patients are attending their appointments and what percentage of patients is missing on their appointments as scheduled by this health system?\n",
    "        \n",
    "        To address this main question in this Patients appointment dataset we should draw a pie chart using Matplotlib library in pandas.\n",
    "        By using Pyplot, we can use the pie() function to draw pie charts.\n",
    "        Matplotlib is actually a graph plotting library in python that serves as a visualization utility.so to visualize our data to get better idea of further data investigation we should initially draw a pie chart to get clear picture of this appointment dataset as if how much % of patients is attending appointment and which % of patients is missing appointments.\n",
    "        This analysis will later on help this Brazilian patients appointment system to work effectively and effeciently and utilize their resources ina better way to upgrade this health appointments system.\n",
    "        "
   ]
  },
  {
   "cell_type": "code",
   "execution_count": 38,
   "id": "381bfbb0",
   "metadata": {},
   "outputs": [
    {
     "data": {
      "image/png": "[encoded data removed]",
      "text/plain": [
       "<Figure size 432x288 with 1 Axes>"
      ]
     },
     "metadata": {},
     "output_type": "display_data"
    }
   ],
   "source": [
    "pie_chart = np.array([df.Not_Attented_Appointment_count,df.Attented_Appointment_count])\n",
    "\n",
    "#gives label to pie chart for better understanding by visualisation.\n",
    "mylabels = [\"Patients not attented appointment\", \"Patients who attented appointment\"]\n",
    "#to seperate wedge for clear pictorial view of data\n",
    "myexplode = [0, 0.4]\n",
    "#to give pie chart color of ur own choice.\n",
    "mycolors = [\"blue\", \"hotpink\"]\n",
    "\n",
    "#we want to know % of patients attending and not attending their appointments in the following pie chart ,we used autopct for this purpose and used 0.2 for two decimal places.\n",
    "plt.pie(pie_chart, radius=1.5 , shadow=True ,labels =mylabels, explode = myexplode, startangle=180, autopct='%0.2f%%', textprops = {\"fontsize\":12}, colors = mycolors)\n",
    "# title for clear understanding\n",
    "plt.title(\"Percentage of patients attending and Not attending their Appointments\",y=1.3);\n",
    "plt.show() "
   ]
  },
  {
   "cell_type": "markdown",
   "id": "59a9add8",
   "metadata": {},
   "source": [
    "# Analysis/Answer to Question posed above:\n",
    "\n",
    "    Above analysis from this Pie chart clearly depicts that 79.81% of Patients in this dataset are attending their Medical appointments Whereas 20.19% are Not attending their appointments.This is Initial analysis Later on we can pose further questions to check which factors are more dependent on the number of patients to attend their appointments in time or which factors are causing patients to miss their scheduled appointments.This will further improve system efficacy."
   ]
  },
  {
   "cell_type": "markdown",
   "id": "73b64b41",
   "metadata": {},
   "source": [
    "# Question:\n",
    "Do Patients who received 'SMS' reminder for their appointment confirmation with all details are able to attend appointments more than the patients who didn't received 'SMS'?\n"
   ]
  },
  {
   "cell_type": "markdown",
   "id": "0becf86f",
   "metadata": {},
   "source": [
    "To analyse/answer above question we should first check relation ship between 'SMS_received' and 'Attented_Appointment' columns.\n"
   ]
  },
  {
   "cell_type": "code",
   "execution_count": 39,
   "id": "914a50ba",
   "metadata": {},
   "outputs": [],
   "source": [
    "#Calculating count of patients receiving SMS \n",
    "df_SMS_received=df[df[\"SMS_received\"]==1].count()[\"Patient_id\"]"
   ]
  },
  {
   "cell_type": "code",
   "execution_count": 40,
   "id": "b95a9b1e",
   "metadata": {},
   "outputs": [
    {
     "name": "stdout",
     "output_type": "stream",
     "text": [
      "35482\n"
     ]
    }
   ],
   "source": [
    "print(df_SMS_received)#count of patients receiving SMS "
   ]
  },
  {
   "cell_type": "code",
   "execution_count": 41,
   "id": "c8a966f2",
   "metadata": {},
   "outputs": [],
   "source": [
    "#Calculating count of patients not receiving 'SMS' as reminder\n",
    "df_No_SMS_received=df[df[\"SMS_received\"]==0].count()[\"Patient_id\"]"
   ]
  },
  {
   "cell_type": "code",
   "execution_count": 42,
   "id": "3c1b5a87",
   "metadata": {},
   "outputs": [
    {
     "name": "stdout",
     "output_type": "stream",
     "text": [
      "75044\n"
     ]
    }
   ],
   "source": [
    "print(df_No_SMS_received)#count of patients not receiving SMS "
   ]
  },
  {
   "cell_type": "markdown",
   "id": "9b611b3d",
   "metadata": {},
   "source": [
    "2-\n",
    "1st Scenario:\n",
    "\n",
    "Now we will calculate:\n",
    "a) number of patients attending their appointments as per scheduled while 'Receiving SMS' too along with its %.\n",
    "b) number of patients who are not attending appointment and receiving 'SMS' reminders too along with its %.\n",
    "\n",
    "Second Scenario:\n",
    "\n",
    "Now we will calculate:\n",
    "a) number of patients attending their appointments as per scheduled while 'Not Receiving SMS' along with its %.\n",
    "b) number of patients who are not attending appointment and 'Not Receiving 'SMS' reminders along with its %.\n"
   ]
  },
  {
   "cell_type": "code",
   "execution_count": 43,
   "id": "c08dccc4",
   "metadata": {},
   "outputs": [
    {
     "name": "stdout",
     "output_type": "stream",
     "text": [
      "<class 'pandas.core.frame.DataFrame'>\n",
      "Int64Index: 110526 entries, 0 to 110526\n",
      "Data columns (total 14 columns):\n",
      " #   Column                Non-Null Count   Dtype         \n",
      "---  ------                --------------   -----         \n",
      " 0   Patient_id            110526 non-null  float64       \n",
      " 1   Appointment_id        110526 non-null  int64         \n",
      " 2   Gender                110526 non-null  object        \n",
      " 3   Scheduled_date        110526 non-null  datetime64[ns]\n",
      " 4   Appointment_date      110526 non-null  datetime64[ns]\n",
      " 5   Age                   110526 non-null  int64         \n",
      " 6   Neighbourhood         110526 non-null  object        \n",
      " 7   Scholarship           110526 non-null  int64         \n",
      " 8   Hypertension          110526 non-null  int64         \n",
      " 9   Diabetes              110526 non-null  int64         \n",
      " 10  Alcoholism            110526 non-null  int64         \n",
      " 11  Handicapped           110526 non-null  int64         \n",
      " 12  SMS_received          110526 non-null  int64         \n",
      " 13  Attented_Appointment  110526 non-null  int64         \n",
      "dtypes: datetime64[ns](2), float64(1), int64(9), object(2)\n",
      "memory usage: 12.6+ MB\n"
     ]
    }
   ],
   "source": [
    "df.info()"
   ]
  },
  {
   "cell_type": "code",
   "execution_count": 44,
   "id": "ef764419",
   "metadata": {},
   "outputs": [
    {
     "data": {
      "text/html": [
       "<div>\n",
       "<style scoped>\n",
       "    .dataframe tbody tr th:only-of-type {\n",
       "        vertical-align: middle;\n",
       "    }\n",
       "\n",
       "    .dataframe tbody tr th {\n",
       "        vertical-align: top;\n",
       "    }\n",
       "\n",
       "    .dataframe thead th {\n",
       "        text-align: right;\n",
       "    }\n",
       "</style>\n",
       "<table border=\"1\" class=\"dataframe\">\n",
       "  <thead>\n",
       "    <tr style=\"text-align: right;\">\n",
       "      <th></th>\n",
       "      <th>Patient_id</th>\n",
       "      <th>Appointment_id</th>\n",
       "      <th>Gender</th>\n",
       "      <th>Scheduled_date</th>\n",
       "      <th>Appointment_date</th>\n",
       "      <th>Age</th>\n",
       "      <th>Neighbourhood</th>\n",
       "      <th>Scholarship</th>\n",
       "      <th>Hypertension</th>\n",
       "      <th>Diabetes</th>\n",
       "      <th>Alcoholism</th>\n",
       "      <th>Handicapped</th>\n",
       "      <th>SMS_received</th>\n",
       "      <th>Attented_Appointment</th>\n",
       "    </tr>\n",
       "  </thead>\n",
       "  <tbody>\n",
       "    <tr>\n",
       "      <th>0</th>\n",
       "      <td>2.987250e+13</td>\n",
       "      <td>5642903</td>\n",
       "      <td>F</td>\n",
       "      <td>2016-04-29 18:38:08</td>\n",
       "      <td>2016-04-29</td>\n",
       "      <td>62</td>\n",
       "      <td>JARDIM DA PENHA</td>\n",
       "      <td>0</td>\n",
       "      <td>1</td>\n",
       "      <td>0</td>\n",
       "      <td>0</td>\n",
       "      <td>0</td>\n",
       "      <td>0</td>\n",
       "      <td>1</td>\n",
       "    </tr>\n",
       "    <tr>\n",
       "      <th>1</th>\n",
       "      <td>5.589978e+14</td>\n",
       "      <td>5642503</td>\n",
       "      <td>M</td>\n",
       "      <td>2016-04-29 16:08:27</td>\n",
       "      <td>2016-04-29</td>\n",
       "      <td>56</td>\n",
       "      <td>JARDIM DA PENHA</td>\n",
       "      <td>0</td>\n",
       "      <td>0</td>\n",
       "      <td>0</td>\n",
       "      <td>0</td>\n",
       "      <td>0</td>\n",
       "      <td>0</td>\n",
       "      <td>1</td>\n",
       "    </tr>\n",
       "    <tr>\n",
       "      <th>2</th>\n",
       "      <td>4.262962e+12</td>\n",
       "      <td>5642549</td>\n",
       "      <td>F</td>\n",
       "      <td>2016-04-29 16:19:04</td>\n",
       "      <td>2016-04-29</td>\n",
       "      <td>62</td>\n",
       "      <td>MATA DA PRAIA</td>\n",
       "      <td>0</td>\n",
       "      <td>0</td>\n",
       "      <td>0</td>\n",
       "      <td>0</td>\n",
       "      <td>0</td>\n",
       "      <td>0</td>\n",
       "      <td>1</td>\n",
       "    </tr>\n",
       "    <tr>\n",
       "      <th>3</th>\n",
       "      <td>8.679512e+11</td>\n",
       "      <td>5642828</td>\n",
       "      <td>F</td>\n",
       "      <td>2016-04-29 17:29:31</td>\n",
       "      <td>2016-04-29</td>\n",
       "      <td>8</td>\n",
       "      <td>PONTAL DE CAMBURI</td>\n",
       "      <td>0</td>\n",
       "      <td>0</td>\n",
       "      <td>0</td>\n",
       "      <td>0</td>\n",
       "      <td>0</td>\n",
       "      <td>0</td>\n",
       "      <td>1</td>\n",
       "    </tr>\n",
       "    <tr>\n",
       "      <th>4</th>\n",
       "      <td>8.841186e+12</td>\n",
       "      <td>5642494</td>\n",
       "      <td>F</td>\n",
       "      <td>2016-04-29 16:07:23</td>\n",
       "      <td>2016-04-29</td>\n",
       "      <td>56</td>\n",
       "      <td>JARDIM DA PENHA</td>\n",
       "      <td>0</td>\n",
       "      <td>1</td>\n",
       "      <td>1</td>\n",
       "      <td>0</td>\n",
       "      <td>0</td>\n",
       "      <td>0</td>\n",
       "      <td>1</td>\n",
       "    </tr>\n",
       "  </tbody>\n",
       "</table>\n",
       "</div>"
      ],
      "text/plain": [
       "     Patient_id  Appointment_id Gender      Scheduled_date Appointment_date  \\\n",
       "0  2.987250e+13         5642903      F 2016-04-29 18:38:08       2016-04-29   \n",
       "1  5.589978e+14         5642503      M 2016-04-29 16:08:27       2016-04-29   \n",
       "2  4.262962e+12         5642549      F 2016-04-29 16:19:04       2016-04-29   \n",
       "3  8.679512e+11         5642828      F 2016-04-29 17:29:31       2016-04-29   \n",
       "4  8.841186e+12         5642494      F 2016-04-29 16:07:23       2016-04-29   \n",
       "\n",
       "   Age      Neighbourhood  Scholarship  Hypertension  Diabetes  Alcoholism  \\\n",
       "0   62    JARDIM DA PENHA            0             1         0           0   \n",
       "1   56    JARDIM DA PENHA            0             0         0           0   \n",
       "2   62      MATA DA PRAIA            0             0         0           0   \n",
       "3    8  PONTAL DE CAMBURI            0             0         0           0   \n",
       "4   56    JARDIM DA PENHA            0             1         1           0   \n",
       "\n",
       "   Handicapped  SMS_received  Attented_Appointment  \n",
       "0            0             0                     1  \n",
       "1            0             0                     1  \n",
       "2            0             0                     1  \n",
       "3            0             0                     1  \n",
       "4            0             0                     1  "
      ]
     },
     "execution_count": 44,
     "metadata": {},
     "output_type": "execute_result"
    }
   ],
   "source": [
    "df.head()"
   ]
  },
  {
   "cell_type": "code",
   "execution_count": 45,
   "id": "5b3efd37",
   "metadata": {},
   "outputs": [],
   "source": [
    "#To find number of patients who were not able to attend their appointments or who didnt show up on their scheduled appointment date.\n",
    "df.Attented_Appointment_count2= df[df[\"Attented_Appointment\"]==0].count()[\"Patient_id\"]"
   ]
  },
  {
   "cell_type": "code",
   "execution_count": 46,
   "id": "ef8f76cd",
   "metadata": {},
   "outputs": [
    {
     "name": "stdout",
     "output_type": "stream",
     "text": [
      "22319\n"
     ]
    }
   ],
   "source": [
    "#print value of number of total patients who didnt attend their appointment.\n",
    "print (df.Attented_Appointment_count2)"
   ]
  },
  {
   "cell_type": "code",
   "execution_count": 47,
   "id": "33bad0ca",
   "metadata": {},
   "outputs": [],
   "source": [
    "import numpy as np\n",
    "\n",
    "idx = np.where((df['SMS_received']==1) & (df['Attented_Appointment']==1))"
   ]
  },
  {
   "cell_type": "code",
   "execution_count": 48,
   "id": "00261682",
   "metadata": {},
   "outputs": [
    {
     "name": "stdout",
     "output_type": "stream",
     "text": [
      "(array([    15,     18,     25, ..., 110523, 110524, 110525], dtype=int64),)\n"
     ]
    }
   ],
   "source": [
    "print(idx)"
   ]
  },
  {
   "cell_type": "code",
   "execution_count": 49,
   "id": "d8c175d7",
   "metadata": {},
   "outputs": [],
   "source": [
    "#calculating total number of patients who received 'SMS' and also attended appointment.\n",
    "df_SMS = df.loc[(df[\"SMS_received\"]==1) & (df[\"Attented_Appointment\"]==1)][\"Attented_Appointment\"].count() \n"
   ]
  },
  {
   "cell_type": "code",
   "execution_count": 50,
   "id": "7c04e60f",
   "metadata": {},
   "outputs": [
    {
     "name": "stdout",
     "output_type": "stream",
     "text": [
      "25698\n"
     ]
    }
   ],
   "source": [
    "print(df_SMS)#print number of patients who received 'SMS' and also attended appointment.\n"
   ]
  },
  {
   "cell_type": "code",
   "execution_count": 51,
   "id": "e8aae908",
   "metadata": {},
   "outputs": [],
   "source": [
    "#calculating total number of patients who didnt receive 'SMS' but attended appointment.\n",
    "df_SMS1 = df.loc[(df[\"SMS_received\"]==0) & (df[\"Attented_Appointment\"]==1)][\"Attented_Appointment\"].count()\n"
   ]
  },
  {
   "cell_type": "code",
   "execution_count": 52,
   "id": "5882ddce",
   "metadata": {},
   "outputs": [
    {
     "name": "stdout",
     "output_type": "stream",
     "text": [
      "62509\n"
     ]
    }
   ],
   "source": [
    "print(df_SMS1)#print total number of patients who didnt receive 'SMS' but attended appointment.\n"
   ]
  },
  {
   "cell_type": "code",
   "execution_count": 53,
   "id": "14d7b9ff",
   "metadata": {},
   "outputs": [],
   "source": [
    "#calculating total number of patients wh oreceived 'SMS' but didnot attend appointment.\n",
    "df_SMS2 = df.loc[(df[\"SMS_received\"]==1) & (df[\"Attented_Appointment\"]==0)][\"Attented_Appointment\"].count() "
   ]
  },
  {
   "cell_type": "code",
   "execution_count": 54,
   "id": "dc3f708c",
   "metadata": {},
   "outputs": [
    {
     "name": "stdout",
     "output_type": "stream",
     "text": [
      "9784\n"
     ]
    }
   ],
   "source": [
    "print(df_SMS2)#print total number of patients who received 'SMS' but didnot attend appointment."
   ]
  },
  {
   "cell_type": "code",
   "execution_count": 55,
   "id": "253a8fbe",
   "metadata": {},
   "outputs": [],
   "source": [
    "#calculating total number of patients who didnot receive 'SMS' and also didnot attend appointment.\n",
    "df_SMS3 = df.loc[(df[\"SMS_received\"]==0) & (df[\"Attented_Appointment\"]==0)][\"Attented_Appointment\"].count() "
   ]
  },
  {
   "cell_type": "code",
   "execution_count": 56,
   "id": "91533e0e",
   "metadata": {},
   "outputs": [
    {
     "name": "stdout",
     "output_type": "stream",
     "text": [
      "12535\n"
     ]
    }
   ],
   "source": [
    "print(df_SMS3)#print total number of patients who didnot receive 'SMS' and also didnot attend appointment."
   ]
  },
  {
   "cell_type": "markdown",
   "id": "c73004c8",
   "metadata": {},
   "source": [
    "Calculating Mean:"
   ]
  },
  {
   "cell_type": "code",
   "execution_count": 57,
   "id": "62b2e0e5",
   "metadata": {},
   "outputs": [
    {
     "name": "stdout",
     "output_type": "stream",
     "text": [
      "0.7242545516036301\n"
     ]
    }
   ],
   "source": [
    "#%OF PATIENTS WHO ATTENTED APPOINTMENT WITH RECEIVING SMS:\n",
    "df_SMS=df[df[\"SMS_received\"]==1] [\"Attented_Appointment\"].mean()\n",
    "print(df_SMS)"
   ]
  },
  {
   "cell_type": "code",
   "execution_count": 58,
   "id": "a2bc822d",
   "metadata": {},
   "outputs": [
    {
     "name": "stdout",
     "output_type": "stream",
     "text": [
      "0.8329646607323703\n"
     ]
    }
   ],
   "source": [
    "#%OF PATIENTS WHO ATTENTED APPOINTMENT WITHOUT RECEIVING SMS:\n",
    "df_noSMS=df[df[\"SMS_received\"]==0] [\"Attented_Appointment\"].mean()\n",
    "print(df_noSMS)"
   ]
  },
  {
   "cell_type": "markdown",
   "id": "ec5963ff",
   "metadata": {},
   "source": [
    " Analysis:\n",
    " Above calculation shows that %of patients who attended appointments without receiving SMS reminders is higher than the % of patients who attended appointments with receiving SMS.This seems quite strange to me!!!"
   ]
  },
  {
   "cell_type": "markdown",
   "id": "8d9cfe0c",
   "metadata": {},
   "source": [
    "Bar Plot to further show analysis:\n",
    "# Bar plot the percentage of Patients Attending Appointments With SMS:\n",
    "\n"
   ]
  },
  {
   "cell_type": "code",
   "execution_count": 59,
   "id": "849a7f71",
   "metadata": {},
   "outputs": [
    {
     "data": {
      "text/plain": [
       "Text(0.5, 1.0, 'SMS_received VS Patients Attented Appointments')"
      ]
     },
     "execution_count": 59,
     "metadata": {},
     "output_type": "execute_result"
    },
    {
     "data": {
      "image/png": "[encoded data removed]",
      "text/plain": [
       "<Figure size 432x288 with 1 Axes>"
      ]
     },
     "metadata": {
      "needs_background": "light"
     },
     "output_type": "display_data"
    }
   ],
   "source": [
    "# Plotting SMS_received VS Patients Attented Appointments\n",
    "\n",
    "#seaborn.countplot()Show the counts of observations in each categorical bin using bars.\n",
    "#A count plot can be thought of as a histogram across a categorical, instead of quantitative, variable.\n",
    "#The basic API and options are identical to those for barplot(), so we can compare counts across nested variables.\n",
    "\n",
    "eff_sms = sns.countplot(x = 'SMS_received',hue = 'Attented_Appointment' , data = df)\n",
    "eff_sms.set_title('SMS_received VS Patients Attented Appointments')\n"
   ]
  },
  {
   "cell_type": "markdown",
   "id": "fb1b5451",
   "metadata": {},
   "source": [
    "# Result /Findings:\n",
    "\n",
    "This also varifies our findings that patients attending MORE appointments are not receiving SMS.So surprisingly in this Patients appointments attending dataset 'SMS'is not playing significant role apparently."
   ]
  },
  {
   "cell_type": "markdown",
   "id": "4af5514c",
   "metadata": {},
   "source": [
    "These are 4 case scenarios where \n",
    "SMS =1 means patients are getting SMS and vice versa.\n",
    "App=1 means attending appointment and vice versa.\n",
    "and number shows total count of patients with these conditions.\n",
    "\n",
    "SMS=1 APP=1  =25698\n",
    "SMS=1 APP=0 =9784\n",
    "SMS=0 APP=1  62510\n",
    "SMS=0 APP=0  12535"
   ]
  },
  {
   "cell_type": "markdown",
   "id": "787d22f3",
   "metadata": {},
   "source": [
    "But if we analyse data carefully we Will come to know that '12535' number of patients are still not receiving 'SMS'and are not showing up on appointments,that mean they might be missing their appointments because they forgot and if they will receive 'SMS' reminder than they will be able to show up on their appointments dates.\n"
   ]
  },
  {
   "cell_type": "markdown",
   "id": "30e3ec0f",
   "metadata": {},
   "source": [
    "So we should send maximum patients with 'SMS' to make appointments attending patient % slightly more,which in return will make this appointments system better and effective and will waste less resources.so by improving SMS received feature in this sytem we can show up more increase in number of patients attending appointments"
   ]
  },
  {
   "cell_type": "markdown",
   "id": "453d8400",
   "metadata": {},
   "source": [
    "# Question:\n",
    "Are more Patients with 'Scholorship' coming to appointments or In other words Is Brazilian welfare payment is affecting number of patients to attentd their appointments?"
   ]
  },
  {
   "cell_type": "markdown",
   "id": "28b48228",
   "metadata": {},
   "source": [
    "To answer above question we have to analyse 'Scholorship' column in this dataset and its effect on number of patients able to attend their appointment.\n",
    "Actually Scholorship column refers to the payment that is given by Brazilian Govt to poor and needy people as a subsidy.so this column value '0' represents as if the patient is not receivng that payment either because he/she is not eligible to get that payment or patient is not yet registered or so.\n",
    "We have to analyse that if the patient is able to receive the government subsidy - the \"Bolsa familia\",Is that impacting No of patients attending appointments or showing up.\n",
    "So first all we calculate % of patients receiving'Scholorship':"
   ]
  },
  {
   "cell_type": "code",
   "execution_count": 60,
   "id": "1cd9e5af",
   "metadata": {},
   "outputs": [
    {
     "name": "stdout",
     "output_type": "stream",
     "text": [
      "10861\n"
     ]
    }
   ],
   "source": [
    "#finding Total patients who are able to receive the government subsidy - the \"Bolsa familia\n",
    "rec_scholorship= df[df['Scholarship']==1]\n",
    "total_rec_scholorship= rec_scholorship.shape[0]\n",
    "#print(rec_scholorship)\n",
    "print(total_rec_scholorship)#printing number of patients who are able to receive the government subsidy - the \"Bolsa familia\n"
   ]
  },
  {
   "cell_type": "code",
   "execution_count": 61,
   "id": "095ed02a",
   "metadata": {},
   "outputs": [
    {
     "name": "stdout",
     "output_type": "stream",
     "text": [
      "99665\n"
     ]
    }
   ],
   "source": [
    "#Total patients who are not receiving the government subsidy - the \"Bolsa familia\n",
    "not_rec_scholorship= df[df['Scholarship']==0]\n",
    "total_not_rec_scholorship= not_rec_scholorship.shape[0]\n",
    "#print(rec_scholorship)\n",
    "print(total_not_rec_scholorship)#printing total patients who are not receiving the government subsidy - the \"Bolsa familia\n"
   ]
  },
  {
   "cell_type": "code",
   "execution_count": 62,
   "id": "44658f6e",
   "metadata": {},
   "outputs": [],
   "source": [
    "#Patient's number who received scholorship and attented appointment\n",
    "patients_attented_recscholorship = (rec_scholorship[\"Attented_Appointment\"]==1).sum()"
   ]
  },
  {
   "cell_type": "code",
   "execution_count": 63,
   "id": "b65930d0",
   "metadata": {},
   "outputs": [
    {
     "name": "stdout",
     "output_type": "stream",
     "text": [
      "8283\n"
     ]
    }
   ],
   "source": [
    "print(patients_attented_recscholorship)"
   ]
  },
  {
   "cell_type": "code",
   "execution_count": 64,
   "id": "984304b1",
   "metadata": {},
   "outputs": [],
   "source": [
    "#Patient's number who received scholorship but not attented appointment\n",
    "patients_not_attented_recscholorship = (rec_scholorship[\"Attented_Appointment\"]==0).sum()"
   ]
  },
  {
   "cell_type": "code",
   "execution_count": 65,
   "id": "51bc341e",
   "metadata": {},
   "outputs": [
    {
     "name": "stdout",
     "output_type": "stream",
     "text": [
      "2578\n"
     ]
    }
   ],
   "source": [
    "print(patients_not_attented_recscholorship)"
   ]
  },
  {
   "cell_type": "code",
   "execution_count": 66,
   "id": "aa0c4dbc",
   "metadata": {},
   "outputs": [],
   "source": [
    "#Patient's number who are not receiving scholorship but attending appointment\n",
    "patients_attented_notrecscholorship = (not_rec_scholorship[\"Attented_Appointment\"]==1).sum()"
   ]
  },
  {
   "cell_type": "code",
   "execution_count": 67,
   "id": "9a227bb0",
   "metadata": {},
   "outputs": [
    {
     "name": "stdout",
     "output_type": "stream",
     "text": [
      "79924\n"
     ]
    }
   ],
   "source": [
    "print(patients_attented_notrecscholorship)"
   ]
  },
  {
   "cell_type": "code",
   "execution_count": 68,
   "id": "c535d243",
   "metadata": {},
   "outputs": [],
   "source": [
    "#Patient's number not receiving scholorship and not attending appointment\n",
    "patients_not_attented_notrecscholorship = (not_rec_scholorship[\"Attented_Appointment\"]==0).sum()"
   ]
  },
  {
   "cell_type": "code",
   "execution_count": 69,
   "id": "fc7d6525",
   "metadata": {},
   "outputs": [
    {
     "name": "stdout",
     "output_type": "stream",
     "text": [
      "19741\n"
     ]
    }
   ],
   "source": [
    "print(patients_not_attented_notrecscholorship)"
   ]
  },
  {
   "cell_type": "code",
   "execution_count": 70,
   "id": "856969e2",
   "metadata": {},
   "outputs": [
    {
     "name": "stdout",
     "output_type": "stream",
     "text": [
      "76.0\n"
     ]
    }
   ],
   "source": [
    "a=round(patients_attented_recscholorship/total_rec_scholorship,2)*100\n",
    "print(a)"
   ]
  },
  {
   "cell_type": "code",
   "execution_count": 71,
   "id": "a9b6df5a",
   "metadata": {},
   "outputs": [
    {
     "name": "stdout",
     "output_type": "stream",
     "text": [
      "80.0\n"
     ]
    }
   ],
   "source": [
    "c=round(patients_attented_notrecscholorship/total_not_rec_scholorship,2)*100\n",
    "print(c)\n"
   ]
  },
  {
   "cell_type": "code",
   "execution_count": 72,
   "id": "9160c0a6",
   "metadata": {},
   "outputs": [],
   "source": [
    "patients_not_attented_recscholorship = (rec_scholorship[\"Attented_Appointment\"]==0).sum()"
   ]
  },
  {
   "cell_type": "code",
   "execution_count": 73,
   "id": "56707d24",
   "metadata": {},
   "outputs": [
    {
     "name": "stdout",
     "output_type": "stream",
     "text": [
      "2578\n"
     ]
    }
   ],
   "source": [
    "print(patients_not_attented_recscholorship)"
   ]
  },
  {
   "cell_type": "code",
   "execution_count": 74,
   "id": "ff2ac232",
   "metadata": {},
   "outputs": [
    {
     "name": "stdout",
     "output_type": "stream",
     "text": [
      "24.0\n"
     ]
    }
   ],
   "source": [
    "b=round(patients_not_attented_recscholorship/total_rec_scholorship,2)*100\n",
    "print(b)"
   ]
  },
  {
   "cell_type": "code",
   "execution_count": 75,
   "id": "0f62cd4c",
   "metadata": {},
   "outputs": [
    {
     "name": "stdout",
     "output_type": "stream",
     "text": [
      "Percentage of patients Attending their Appointment who are able to receive the government subsidy - the 'Bolsa familia' is 76.0%, Whereas % of patients who are not attending appointmnents while getting the government subsidy - the 'Bolsa familia' is 24.0%.\n"
     ]
    }
   ],
   "source": [
    "print(\"Percentage of patients Attending their Appointment who are able to receive the government subsidy - the 'Bolsa familia' is {}%, Whereas % of patients who are not attending appointmnents while getting the government subsidy - the 'Bolsa familia' is {}%.\"\n",
    "      .format(a,b))"
   ]
  },
  {
   "cell_type": "code",
   "execution_count": 76,
   "id": "84ba644b",
   "metadata": {},
   "outputs": [
    {
     "name": "stdout",
     "output_type": "stream",
     "text": [
      "Percentage of patients Attending their Appointment who are not receiving the government subsidy - the 'Bolsa familia' is 80.0%\n"
     ]
    }
   ],
   "source": [
    "print(\"Percentage of patients Attending their Appointment who are not receiving the government subsidy - the 'Bolsa familia' is {}%\" .format(c))"
   ]
  },
  {
   "cell_type": "markdown",
   "id": "f98e3e3b",
   "metadata": {},
   "source": [
    "# Findings:\n",
    "So it shows that higher number of patients are showing up on their appointments while not getting any subsidy/scholorship so this factor doesn't impact much."
   ]
  },
  {
   "cell_type": "markdown",
   "id": "412e8ce1",
   "metadata": {},
   "source": [
    "# Question:\n",
    "\n",
    "Is delay in booking time of appointment to its actual appointment date is affecting number of patients attending appointment?\n",
    "\n",
    "To analyse above question,we have to study relationship between column Scheduled_date(which shows when appointment was booked by a Patient) and Appointment_date(When actual appointment took place)."
   ]
  },
  {
   "cell_type": "code",
   "execution_count": 77,
   "id": "5d5e6881",
   "metadata": {},
   "outputs": [
    {
     "name": "stdout",
     "output_type": "stream",
     "text": [
      "<class 'pandas.core.frame.DataFrame'>\n",
      "Int64Index: 110526 entries, 0 to 110526\n",
      "Data columns (total 14 columns):\n",
      " #   Column                Non-Null Count   Dtype         \n",
      "---  ------                --------------   -----         \n",
      " 0   Patient_id            110526 non-null  float64       \n",
      " 1   Appointment_id        110526 non-null  int64         \n",
      " 2   Gender                110526 non-null  object        \n",
      " 3   Scheduled_date        110526 non-null  datetime64[ns]\n",
      " 4   Appointment_date      110526 non-null  datetime64[ns]\n",
      " 5   Age                   110526 non-null  int64         \n",
      " 6   Neighbourhood         110526 non-null  object        \n",
      " 7   Scholarship           110526 non-null  int64         \n",
      " 8   Hypertension          110526 non-null  int64         \n",
      " 9   Diabetes              110526 non-null  int64         \n",
      " 10  Alcoholism            110526 non-null  int64         \n",
      " 11  Handicapped           110526 non-null  int64         \n",
      " 12  SMS_received          110526 non-null  int64         \n",
      " 13  Attented_Appointment  110526 non-null  int64         \n",
      "dtypes: datetime64[ns](2), float64(1), int64(9), object(2)\n",
      "memory usage: 16.7+ MB\n"
     ]
    }
   ],
   "source": [
    "df.info()"
   ]
  },
  {
   "cell_type": "code",
   "execution_count": 78,
   "id": "c3ef0a7a",
   "metadata": {},
   "outputs": [],
   "source": [
    "#ading a new column named 'Waiting_period' to calculate difference in Appointment date to scheduled date.\n",
    "df['Waiting_period'] = (df.Appointment_date.dt.date - df.Scheduled_date.dt.date).dt.days\n",
    "df= df[(df.Waiting_period>=0)]"
   ]
  },
  {
   "cell_type": "code",
   "execution_count": 79,
   "id": "1dc541a2",
   "metadata": {},
   "outputs": [
    {
     "name": "stdout",
     "output_type": "stream",
     "text": [
      "<class 'pandas.core.frame.DataFrame'>\n",
      "Int64Index: 110521 entries, 0 to 110526\n",
      "Data columns (total 15 columns):\n",
      " #   Column                Non-Null Count   Dtype         \n",
      "---  ------                --------------   -----         \n",
      " 0   Patient_id            110521 non-null  float64       \n",
      " 1   Appointment_id        110521 non-null  int64         \n",
      " 2   Gender                110521 non-null  object        \n",
      " 3   Scheduled_date        110521 non-null  datetime64[ns]\n",
      " 4   Appointment_date      110521 non-null  datetime64[ns]\n",
      " 5   Age                   110521 non-null  int64         \n",
      " 6   Neighbourhood         110521 non-null  object        \n",
      " 7   Scholarship           110521 non-null  int64         \n",
      " 8   Hypertension          110521 non-null  int64         \n",
      " 9   Diabetes              110521 non-null  int64         \n",
      " 10  Alcoholism            110521 non-null  int64         \n",
      " 11  Handicapped           110521 non-null  int64         \n",
      " 12  SMS_received          110521 non-null  int64         \n",
      " 13  Attented_Appointment  110521 non-null  int64         \n",
      " 14  Waiting_period        110521 non-null  int64         \n",
      "dtypes: datetime64[ns](2), float64(1), int64(10), object(2)\n",
      "memory usage: 13.5+ MB\n"
     ]
    }
   ],
   "source": [
    "df.info()#to make sure new column for waiting period is added"
   ]
  },
  {
   "cell_type": "code",
   "execution_count": 80,
   "id": "03b9c944",
   "metadata": {},
   "outputs": [
    {
     "data": {
      "text/html": [
       "<div>\n",
       "<style scoped>\n",
       "    .dataframe tbody tr th:only-of-type {\n",
       "        vertical-align: middle;\n",
       "    }\n",
       "\n",
       "    .dataframe tbody tr th {\n",
       "        vertical-align: top;\n",
       "    }\n",
       "\n",
       "    .dataframe thead th {\n",
       "        text-align: right;\n",
       "    }\n",
       "</style>\n",
       "<table border=\"1\" class=\"dataframe\">\n",
       "  <thead>\n",
       "    <tr style=\"text-align: right;\">\n",
       "      <th></th>\n",
       "      <th>Patient_id</th>\n",
       "      <th>Appointment_id</th>\n",
       "      <th>Gender</th>\n",
       "      <th>Scheduled_date</th>\n",
       "      <th>Appointment_date</th>\n",
       "      <th>Age</th>\n",
       "      <th>Neighbourhood</th>\n",
       "      <th>Scholarship</th>\n",
       "      <th>Hypertension</th>\n",
       "      <th>Diabetes</th>\n",
       "      <th>Alcoholism</th>\n",
       "      <th>Handicapped</th>\n",
       "      <th>SMS_received</th>\n",
       "      <th>Attented_Appointment</th>\n",
       "      <th>Waiting_period</th>\n",
       "    </tr>\n",
       "  </thead>\n",
       "  <tbody>\n",
       "    <tr>\n",
       "      <th>0</th>\n",
       "      <td>2.987250e+13</td>\n",
       "      <td>5642903</td>\n",
       "      <td>F</td>\n",
       "      <td>2016-04-29 18:38:08</td>\n",
       "      <td>2016-04-29</td>\n",
       "      <td>62</td>\n",
       "      <td>JARDIM DA PENHA</td>\n",
       "      <td>0</td>\n",
       "      <td>1</td>\n",
       "      <td>0</td>\n",
       "      <td>0</td>\n",
       "      <td>0</td>\n",
       "      <td>0</td>\n",
       "      <td>1</td>\n",
       "      <td>0</td>\n",
       "    </tr>\n",
       "    <tr>\n",
       "      <th>1</th>\n",
       "      <td>5.589978e+14</td>\n",
       "      <td>5642503</td>\n",
       "      <td>M</td>\n",
       "      <td>2016-04-29 16:08:27</td>\n",
       "      <td>2016-04-29</td>\n",
       "      <td>56</td>\n",
       "      <td>JARDIM DA PENHA</td>\n",
       "      <td>0</td>\n",
       "      <td>0</td>\n",
       "      <td>0</td>\n",
       "      <td>0</td>\n",
       "      <td>0</td>\n",
       "      <td>0</td>\n",
       "      <td>1</td>\n",
       "      <td>0</td>\n",
       "    </tr>\n",
       "    <tr>\n",
       "      <th>2</th>\n",
       "      <td>4.262962e+12</td>\n",
       "      <td>5642549</td>\n",
       "      <td>F</td>\n",
       "      <td>2016-04-29 16:19:04</td>\n",
       "      <td>2016-04-29</td>\n",
       "      <td>62</td>\n",
       "      <td>MATA DA PRAIA</td>\n",
       "      <td>0</td>\n",
       "      <td>0</td>\n",
       "      <td>0</td>\n",
       "      <td>0</td>\n",
       "      <td>0</td>\n",
       "      <td>0</td>\n",
       "      <td>1</td>\n",
       "      <td>0</td>\n",
       "    </tr>\n",
       "    <tr>\n",
       "      <th>3</th>\n",
       "      <td>8.679512e+11</td>\n",
       "      <td>5642828</td>\n",
       "      <td>F</td>\n",
       "      <td>2016-04-29 17:29:31</td>\n",
       "      <td>2016-04-29</td>\n",
       "      <td>8</td>\n",
       "      <td>PONTAL DE CAMBURI</td>\n",
       "      <td>0</td>\n",
       "      <td>0</td>\n",
       "      <td>0</td>\n",
       "      <td>0</td>\n",
       "      <td>0</td>\n",
       "      <td>0</td>\n",
       "      <td>1</td>\n",
       "      <td>0</td>\n",
       "    </tr>\n",
       "    <tr>\n",
       "      <th>4</th>\n",
       "      <td>8.841186e+12</td>\n",
       "      <td>5642494</td>\n",
       "      <td>F</td>\n",
       "      <td>2016-04-29 16:07:23</td>\n",
       "      <td>2016-04-29</td>\n",
       "      <td>56</td>\n",
       "      <td>JARDIM DA PENHA</td>\n",
       "      <td>0</td>\n",
       "      <td>1</td>\n",
       "      <td>1</td>\n",
       "      <td>0</td>\n",
       "      <td>0</td>\n",
       "      <td>0</td>\n",
       "      <td>1</td>\n",
       "      <td>0</td>\n",
       "    </tr>\n",
       "    <tr>\n",
       "      <th>5</th>\n",
       "      <td>9.598513e+13</td>\n",
       "      <td>5626772</td>\n",
       "      <td>F</td>\n",
       "      <td>2016-04-27 08:36:51</td>\n",
       "      <td>2016-04-29</td>\n",
       "      <td>76</td>\n",
       "      <td>REPÚBLICA</td>\n",
       "      <td>0</td>\n",
       "      <td>1</td>\n",
       "      <td>0</td>\n",
       "      <td>0</td>\n",
       "      <td>0</td>\n",
       "      <td>0</td>\n",
       "      <td>1</td>\n",
       "      <td>2</td>\n",
       "    </tr>\n",
       "    <tr>\n",
       "      <th>6</th>\n",
       "      <td>7.336882e+14</td>\n",
       "      <td>5630279</td>\n",
       "      <td>F</td>\n",
       "      <td>2016-04-27 15:05:12</td>\n",
       "      <td>2016-04-29</td>\n",
       "      <td>23</td>\n",
       "      <td>GOIABEIRAS</td>\n",
       "      <td>0</td>\n",
       "      <td>0</td>\n",
       "      <td>0</td>\n",
       "      <td>0</td>\n",
       "      <td>0</td>\n",
       "      <td>0</td>\n",
       "      <td>0</td>\n",
       "      <td>2</td>\n",
       "    </tr>\n",
       "    <tr>\n",
       "      <th>7</th>\n",
       "      <td>3.449833e+12</td>\n",
       "      <td>5630575</td>\n",
       "      <td>F</td>\n",
       "      <td>2016-04-27 15:39:58</td>\n",
       "      <td>2016-04-29</td>\n",
       "      <td>39</td>\n",
       "      <td>GOIABEIRAS</td>\n",
       "      <td>0</td>\n",
       "      <td>0</td>\n",
       "      <td>0</td>\n",
       "      <td>0</td>\n",
       "      <td>0</td>\n",
       "      <td>0</td>\n",
       "      <td>0</td>\n",
       "      <td>2</td>\n",
       "    </tr>\n",
       "    <tr>\n",
       "      <th>8</th>\n",
       "      <td>5.639473e+13</td>\n",
       "      <td>5638447</td>\n",
       "      <td>F</td>\n",
       "      <td>2016-04-29 08:02:16</td>\n",
       "      <td>2016-04-29</td>\n",
       "      <td>21</td>\n",
       "      <td>ANDORINHAS</td>\n",
       "      <td>0</td>\n",
       "      <td>0</td>\n",
       "      <td>0</td>\n",
       "      <td>0</td>\n",
       "      <td>0</td>\n",
       "      <td>0</td>\n",
       "      <td>1</td>\n",
       "      <td>0</td>\n",
       "    </tr>\n",
       "    <tr>\n",
       "      <th>9</th>\n",
       "      <td>7.812456e+13</td>\n",
       "      <td>5629123</td>\n",
       "      <td>F</td>\n",
       "      <td>2016-04-27 12:48:25</td>\n",
       "      <td>2016-04-29</td>\n",
       "      <td>19</td>\n",
       "      <td>CONQUISTA</td>\n",
       "      <td>0</td>\n",
       "      <td>0</td>\n",
       "      <td>0</td>\n",
       "      <td>0</td>\n",
       "      <td>0</td>\n",
       "      <td>0</td>\n",
       "      <td>1</td>\n",
       "      <td>2</td>\n",
       "    </tr>\n",
       "    <tr>\n",
       "      <th>10</th>\n",
       "      <td>7.345362e+14</td>\n",
       "      <td>5630213</td>\n",
       "      <td>F</td>\n",
       "      <td>2016-04-27 14:58:11</td>\n",
       "      <td>2016-04-29</td>\n",
       "      <td>30</td>\n",
       "      <td>NOVA PALESTINA</td>\n",
       "      <td>0</td>\n",
       "      <td>0</td>\n",
       "      <td>0</td>\n",
       "      <td>0</td>\n",
       "      <td>0</td>\n",
       "      <td>0</td>\n",
       "      <td>1</td>\n",
       "      <td>2</td>\n",
       "    </tr>\n",
       "    <tr>\n",
       "      <th>11</th>\n",
       "      <td>7.542951e+12</td>\n",
       "      <td>5620163</td>\n",
       "      <td>M</td>\n",
       "      <td>2016-04-26 08:44:12</td>\n",
       "      <td>2016-04-29</td>\n",
       "      <td>29</td>\n",
       "      <td>NOVA PALESTINA</td>\n",
       "      <td>0</td>\n",
       "      <td>0</td>\n",
       "      <td>0</td>\n",
       "      <td>0</td>\n",
       "      <td>0</td>\n",
       "      <td>1</td>\n",
       "      <td>0</td>\n",
       "      <td>3</td>\n",
       "    </tr>\n",
       "    <tr>\n",
       "      <th>12</th>\n",
       "      <td>5.666548e+14</td>\n",
       "      <td>5634718</td>\n",
       "      <td>F</td>\n",
       "      <td>2016-04-28 11:33:51</td>\n",
       "      <td>2016-04-29</td>\n",
       "      <td>22</td>\n",
       "      <td>NOVA PALESTINA</td>\n",
       "      <td>1</td>\n",
       "      <td>0</td>\n",
       "      <td>0</td>\n",
       "      <td>0</td>\n",
       "      <td>0</td>\n",
       "      <td>0</td>\n",
       "      <td>1</td>\n",
       "      <td>1</td>\n",
       "    </tr>\n",
       "    <tr>\n",
       "      <th>13</th>\n",
       "      <td>9.113946e+14</td>\n",
       "      <td>5636249</td>\n",
       "      <td>M</td>\n",
       "      <td>2016-04-28 14:52:07</td>\n",
       "      <td>2016-04-29</td>\n",
       "      <td>28</td>\n",
       "      <td>NOVA PALESTINA</td>\n",
       "      <td>0</td>\n",
       "      <td>0</td>\n",
       "      <td>0</td>\n",
       "      <td>0</td>\n",
       "      <td>0</td>\n",
       "      <td>0</td>\n",
       "      <td>1</td>\n",
       "      <td>1</td>\n",
       "    </tr>\n",
       "    <tr>\n",
       "      <th>14</th>\n",
       "      <td>9.988472e+13</td>\n",
       "      <td>5633951</td>\n",
       "      <td>F</td>\n",
       "      <td>2016-04-28 10:06:24</td>\n",
       "      <td>2016-04-29</td>\n",
       "      <td>54</td>\n",
       "      <td>NOVA PALESTINA</td>\n",
       "      <td>0</td>\n",
       "      <td>0</td>\n",
       "      <td>0</td>\n",
       "      <td>0</td>\n",
       "      <td>0</td>\n",
       "      <td>0</td>\n",
       "      <td>1</td>\n",
       "      <td>1</td>\n",
       "    </tr>\n",
       "  </tbody>\n",
       "</table>\n",
       "</div>"
      ],
      "text/plain": [
       "      Patient_id  Appointment_id Gender      Scheduled_date Appointment_date  \\\n",
       "0   2.987250e+13         5642903      F 2016-04-29 18:38:08       2016-04-29   \n",
       "1   5.589978e+14         5642503      M 2016-04-29 16:08:27       2016-04-29   \n",
       "2   4.262962e+12         5642549      F 2016-04-29 16:19:04       2016-04-29   \n",
       "3   8.679512e+11         5642828      F 2016-04-29 17:29:31       2016-04-29   \n",
       "4   8.841186e+12         5642494      F 2016-04-29 16:07:23       2016-04-29   \n",
       "5   9.598513e+13         5626772      F 2016-04-27 08:36:51       2016-04-29   \n",
       "6   7.336882e+14         5630279      F 2016-04-27 15:05:12       2016-04-29   \n",
       "7   3.449833e+12         5630575      F 2016-04-27 15:39:58       2016-04-29   \n",
       "8   5.639473e+13         5638447      F 2016-04-29 08:02:16       2016-04-29   \n",
       "9   7.812456e+13         5629123      F 2016-04-27 12:48:25       2016-04-29   \n",
       "10  7.345362e+14         5630213      F 2016-04-27 14:58:11       2016-04-29   \n",
       "11  7.542951e+12         5620163      M 2016-04-26 08:44:12       2016-04-29   \n",
       "12  5.666548e+14         5634718      F 2016-04-28 11:33:51       2016-04-29   \n",
       "13  9.113946e+14         5636249      M 2016-04-28 14:52:07       2016-04-29   \n",
       "14  9.988472e+13         5633951      F 2016-04-28 10:06:24       2016-04-29   \n",
       "\n",
       "    Age      Neighbourhood  Scholarship  Hypertension  Diabetes  Alcoholism  \\\n",
       "0    62    JARDIM DA PENHA            0             1         0           0   \n",
       "1    56    JARDIM DA PENHA            0             0         0           0   \n",
       "2    62      MATA DA PRAIA            0             0         0           0   \n",
       "3     8  PONTAL DE CAMBURI            0             0         0           0   \n",
       "4    56    JARDIM DA PENHA            0             1         1           0   \n",
       "5    76          REPÚBLICA            0             1         0           0   \n",
       "6    23         GOIABEIRAS            0             0         0           0   \n",
       "7    39         GOIABEIRAS            0             0         0           0   \n",
       "8    21         ANDORINHAS            0             0         0           0   \n",
       "9    19          CONQUISTA            0             0         0           0   \n",
       "10   30     NOVA PALESTINA            0             0         0           0   \n",
       "11   29     NOVA PALESTINA            0             0         0           0   \n",
       "12   22     NOVA PALESTINA            1             0         0           0   \n",
       "13   28     NOVA PALESTINA            0             0         0           0   \n",
       "14   54     NOVA PALESTINA            0             0         0           0   \n",
       "\n",
       "    Handicapped  SMS_received  Attented_Appointment  Waiting_period  \n",
       "0             0             0                     1               0  \n",
       "1             0             0                     1               0  \n",
       "2             0             0                     1               0  \n",
       "3             0             0                     1               0  \n",
       "4             0             0                     1               0  \n",
       "5             0             0                     1               2  \n",
       "6             0             0                     0               2  \n",
       "7             0             0                     0               2  \n",
       "8             0             0                     1               0  \n",
       "9             0             0                     1               2  \n",
       "10            0             0                     1               2  \n",
       "11            0             1                     0               3  \n",
       "12            0             0                     1               1  \n",
       "13            0             0                     1               1  \n",
       "14            0             0                     1               1  "
      ]
     },
     "execution_count": 80,
     "metadata": {},
     "output_type": "execute_result"
    }
   ],
   "source": [
    "df.head(15)"
   ]
  },
  {
   "cell_type": "code",
   "execution_count": 81,
   "id": "a3008d09",
   "metadata": {},
   "outputs": [],
   "source": [
    "#Waiting_period and Attented_Appointment relationship"
   ]
  },
  {
   "cell_type": "code",
   "execution_count": 82,
   "id": "b90b37bd",
   "metadata": {},
   "outputs": [],
   "source": [
    "Waiting_time_difference = df[['Attented_Appointment', 'Waiting_period']].groupby('Waiting_period').count()"
   ]
  },
  {
   "cell_type": "code",
   "execution_count": 83,
   "id": "e8af7ad7",
   "metadata": {},
   "outputs": [
    {
     "name": "stdout",
     "output_type": "stream",
     "text": [
      "                Attented_Appointment\n",
      "Waiting_period                      \n",
      "0                              38562\n",
      "1                               5213\n",
      "2                               6725\n",
      "3                               2737\n",
      "4                               5290\n",
      "...                              ...\n",
      "155                               10\n",
      "162                               11\n",
      "169                                8\n",
      "176                               16\n",
      "179                               10\n",
      "\n",
      "[129 rows x 1 columns]\n"
     ]
    }
   ],
   "source": [
    "print(Waiting_time_difference)"
   ]
  },
  {
   "cell_type": "code",
   "execution_count": 84,
   "id": "f2b18ca0",
   "metadata": {},
   "outputs": [
    {
     "data": {
      "text/plain": [
       "Text(0, 0.5, 'Number of Patients')"
      ]
     },
     "execution_count": 84,
     "metadata": {},
     "output_type": "execute_result"
    },
    {
     "data": {
      "image/png": "[encoded data removed]",
      "text/plain": [
       "<Figure size 1296x360 with 1 Axes>"
      ]
     },
     "metadata": {
      "needs_background": "light"
     },
     "output_type": "display_data"
    }
   ],
   "source": [
    "Waiting_time_difference.plot(kind='line', figsize=(18,5))\n",
    "plt.title(\"Effect of  Waiting time on Appointments attented by patients\")\n",
    "plt.xlabel('Gap in number of Days between scheduled and actual appointments')\n",
    "plt.ylabel('Number of Patients')\n"
   ]
  },
  {
   "cell_type": "markdown",
   "id": "33ec2712",
   "metadata": {},
   "source": [
    "Findings:"
   ]
  },
  {
   "cell_type": "markdown",
   "id": "d2fe61b3",
   "metadata": {},
   "source": [
    "Above line graph clearly depicts that more the waiting time has an impact on number of patients attending appointments.Idf Gap between Scheduled appointment and actual appointment is less that nore number of people/patients are showing up or attending their respective apoointments.\n",
    "similarly if patient is booking appointment on same day then they are more likely to attend their appointments.when there is a big gap in number fo days for scheduled and actual appointment than they are less likely to attend their appointments."
   ]
  },
  {
   "cell_type": "markdown",
   "id": "7a76cb9e",
   "metadata": {},
   "source": [
    "# Conclusions:"
   ]
  },
  {
   "cell_type": "markdown",
   "id": "bcc73ffa",
   "metadata": {},
   "source": [
    "1-This analysis report findings show that 79.81% of Patients in this 'Medical Appointment Attendance System'dataset are attending their Medical appointments Whereas 20.19% are Not attending their appointments.This shows that higher number of patients are showing up but to make it maximum system must improve.\n",
    "\n",
    "2-One of the key factor affecting patients to miss out their scheduled appointments is their waiting time which is the difference in their booking appointment date and their original appointment date.If Gap between Scheduled appointment and actual appointment is less than more number of people/patients are showing up or attending their respective apoointments. similarly if patient is booking appointment on same day then they are more likely to attend their appointments.when there is a large gap in number of days for scheduled and actual appointment than they are less likely to attend their appointments.\n",
    "\n",
    "3-This report analysis also tells that patients attending MORE appointments are not receiving SMS.So surprisingly in this Medical Appointment Attendance System dataset 'SMS'is not playing significant role apparently.\n",
    "\n",
    "4-Scolorship program of Brazilian Government is not impacting this systems efficacy as report analysis of this datset shows that higher number of patients are showing up on their appointments while not getting any subsidy/scholorship so this factor doesn't impact much.\n",
    "\n",
    "5-If we look at histograms for different problems in patients like Hypertension,Alcoholism etc it shows that % of Alcoholisim and Handcap is extremly low among patients in this system.likewise % of patients who have diabetes and patients who re getting Government subsidy is not more than 5 to 6%.\n"
   ]
  },
  {
   "cell_type": "markdown",
   "id": "70099b0b",
   "metadata": {},
   "source": [
    "# Limitations:"
   ]
  },
  {
   "cell_type": "markdown",
   "id": "f49a34e5",
   "metadata": {},
   "source": [
    " Patients attending MORE appointments are not receiving SMS.So surprisingly in this Patients appointments attending dataset 'SMS'is not playing significant role apparently.This is one of the limitations in this system.As we know that these days 'SMS' reminders play a significant role in evryones life ,So we should send maximum patients with 'SMS' to make appointments attending patient % slightly more,which in return will make this appointments system better and effective and will waste less resources.so by improving SMS received feature in this sytem we can show up more increase in number of patients attending appointments"
   ]
  }
 ],
 "metadata": {
  "kernelspec": {
   "display_name": "Python 3",
   "language": "python",
   "name": "python3"
  },
  "language_info": {
   "codemirror_mode": {
    "name": "ipython",
    "version": 3
   },
   "file_extension": ".py",
   "mimetype": "text/x-python",
   "name": "python",
   "nbconvert_exporter": "python",
   "pygments_lexer": "ipython3",
   "version": "3.8.8"
  }
 },
 "nbformat": 4,
 "nbformat_minor": 5
}
